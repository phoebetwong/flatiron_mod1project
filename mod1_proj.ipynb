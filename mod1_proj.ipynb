{
 "cells": [
  {
   "cell_type": "code",
   "execution_count": 77,
   "metadata": {
    "scrolled": true
   },
   "outputs": [],
   "source": [
    "import pandas as pd\n",
    "import numpy as np\n",
    "import matplotlib.pyplot as plt\n",
    "import seaborn as sns\n",
    "import scipy.stats as stats\n",
    "%matplotlib inline"
   ]
  },
  {
   "cell_type": "code",
   "execution_count": 3,
   "metadata": {
    "scrolled": true
   },
   "outputs": [],
   "source": [
    "df = pd.read_csv('data.Mod1ProjData.csv')"
   ]
  },
  {
   "cell_type": "code",
   "execution_count": 33,
   "metadata": {
    "scrolled": true
   },
   "outputs": [
    {
     "data": {
      "text/html": [
       "<div>\n",
       "<style scoped>\n",
       "    .dataframe tbody tr th:only-of-type {\n",
       "        vertical-align: middle;\n",
       "    }\n",
       "\n",
       "    .dataframe tbody tr th {\n",
       "        vertical-align: top;\n",
       "    }\n",
       "\n",
       "    .dataframe thead th {\n",
       "        text-align: right;\n",
       "    }\n",
       "</style>\n",
       "<table border=\"1\" class=\"dataframe\">\n",
       "  <thead>\n",
       "    <tr style=\"text-align: right;\">\n",
       "      <th></th>\n",
       "      <th>Unnamed: 0</th>\n",
       "      <th>movie</th>\n",
       "      <th>title</th>\n",
       "      <th>id_y</th>\n",
       "      <th>release_date</th>\n",
       "      <th>production_budget</th>\n",
       "      <th>date</th>\n",
       "      <th>studio</th>\n",
       "      <th>year</th>\n",
       "      <th>domestic_gross</th>\n",
       "      <th>...</th>\n",
       "      <th>Comedy_gross</th>\n",
       "      <th>Western_gross</th>\n",
       "      <th>Thriller_gross</th>\n",
       "      <th>Talk-Show_gross</th>\n",
       "      <th>Musical_gross</th>\n",
       "      <th>Romance_gross</th>\n",
       "      <th>Sci-Fi_gross</th>\n",
       "      <th>Adult_gross</th>\n",
       "      <th>Adventure_gross</th>\n",
       "      <th>History_gross</th>\n",
       "    </tr>\n",
       "  </thead>\n",
       "  <tbody>\n",
       "    <tr>\n",
       "      <th>0</th>\n",
       "      <td>0</td>\n",
       "      <td>Pirates of the Caribbean: On Stranger Tides</td>\n",
       "      <td>Pirates of the Caribbean: On Stranger Tides</td>\n",
       "      <td>2.0</td>\n",
       "      <td>May 20, 2011</td>\n",
       "      <td>410600000.0</td>\n",
       "      <td>2011-05-20</td>\n",
       "      <td>BV</td>\n",
       "      <td>2011.0</td>\n",
       "      <td>241063875.0</td>\n",
       "      <td>...</td>\n",
       "      <td>0.0</td>\n",
       "      <td>0.0</td>\n",
       "      <td>0.0</td>\n",
       "      <td>0.0</td>\n",
       "      <td>0.0</td>\n",
       "      <td>0.0</td>\n",
       "      <td>0.000000e+00</td>\n",
       "      <td>0.0</td>\n",
       "      <td>1.045664e+09</td>\n",
       "      <td>0.0</td>\n",
       "    </tr>\n",
       "    <tr>\n",
       "      <th>1</th>\n",
       "      <td>1</td>\n",
       "      <td>Avengers: Age of Ultron</td>\n",
       "      <td>Avengers: Age of Ultron</td>\n",
       "      <td>4.0</td>\n",
       "      <td>May 1, 2015</td>\n",
       "      <td>330600000.0</td>\n",
       "      <td>2015-05-01</td>\n",
       "      <td>BV</td>\n",
       "      <td>2015.0</td>\n",
       "      <td>459005868.0</td>\n",
       "      <td>...</td>\n",
       "      <td>0.0</td>\n",
       "      <td>0.0</td>\n",
       "      <td>0.0</td>\n",
       "      <td>0.0</td>\n",
       "      <td>0.0</td>\n",
       "      <td>0.0</td>\n",
       "      <td>1.403014e+09</td>\n",
       "      <td>0.0</td>\n",
       "      <td>1.403014e+09</td>\n",
       "      <td>0.0</td>\n",
       "    </tr>\n",
       "    <tr>\n",
       "      <th>2</th>\n",
       "      <td>2</td>\n",
       "      <td>Avengers: Infinity War</td>\n",
       "      <td>Avengers: Infinity War</td>\n",
       "      <td>7.0</td>\n",
       "      <td>Apr 27, 2018</td>\n",
       "      <td>300000000.0</td>\n",
       "      <td>2018-04-27</td>\n",
       "      <td>BV</td>\n",
       "      <td>2018.0</td>\n",
       "      <td>678815482.0</td>\n",
       "      <td>...</td>\n",
       "      <td>0.0</td>\n",
       "      <td>0.0</td>\n",
       "      <td>0.0</td>\n",
       "      <td>0.0</td>\n",
       "      <td>0.0</td>\n",
       "      <td>0.0</td>\n",
       "      <td>2.048134e+09</td>\n",
       "      <td>0.0</td>\n",
       "      <td>2.048134e+09</td>\n",
       "      <td>0.0</td>\n",
       "    </tr>\n",
       "    <tr>\n",
       "      <th>3</th>\n",
       "      <td>3</td>\n",
       "      <td>Justice League</td>\n",
       "      <td>Justice League</td>\n",
       "      <td>9.0</td>\n",
       "      <td>Nov 17, 2017</td>\n",
       "      <td>300000000.0</td>\n",
       "      <td>2017-11-17</td>\n",
       "      <td>WB</td>\n",
       "      <td>2017.0</td>\n",
       "      <td>229024295.0</td>\n",
       "      <td>...</td>\n",
       "      <td>0.0</td>\n",
       "      <td>0.0</td>\n",
       "      <td>0.0</td>\n",
       "      <td>0.0</td>\n",
       "      <td>0.0</td>\n",
       "      <td>0.0</td>\n",
       "      <td>0.000000e+00</td>\n",
       "      <td>0.0</td>\n",
       "      <td>6.559452e+08</td>\n",
       "      <td>0.0</td>\n",
       "    </tr>\n",
       "    <tr>\n",
       "      <th>4</th>\n",
       "      <td>4</td>\n",
       "      <td>Spectre</td>\n",
       "      <td>Spectre</td>\n",
       "      <td>10.0</td>\n",
       "      <td>Nov 6, 2015</td>\n",
       "      <td>300000000.0</td>\n",
       "      <td>2015-11-06</td>\n",
       "      <td>Sony</td>\n",
       "      <td>2015.0</td>\n",
       "      <td>200074175.0</td>\n",
       "      <td>...</td>\n",
       "      <td>0.0</td>\n",
       "      <td>0.0</td>\n",
       "      <td>879620923.0</td>\n",
       "      <td>0.0</td>\n",
       "      <td>0.0</td>\n",
       "      <td>0.0</td>\n",
       "      <td>0.000000e+00</td>\n",
       "      <td>0.0</td>\n",
       "      <td>8.796209e+08</td>\n",
       "      <td>0.0</td>\n",
       "    </tr>\n",
       "  </tbody>\n",
       "</table>\n",
       "<p>5 rows × 111 columns</p>\n",
       "</div>"
      ],
      "text/plain": [
       "   Unnamed: 0                                        movie  \\\n",
       "0           0  Pirates of the Caribbean: On Stranger Tides   \n",
       "1           1                      Avengers: Age of Ultron   \n",
       "2           2                       Avengers: Infinity War   \n",
       "3           3                               Justice League   \n",
       "4           4                                      Spectre   \n",
       "\n",
       "                                         title  id_y  release_date  \\\n",
       "0  Pirates of the Caribbean: On Stranger Tides   2.0  May 20, 2011   \n",
       "1                      Avengers: Age of Ultron   4.0   May 1, 2015   \n",
       "2                       Avengers: Infinity War   7.0  Apr 27, 2018   \n",
       "3                               Justice League   9.0  Nov 17, 2017   \n",
       "4                                      Spectre  10.0   Nov 6, 2015   \n",
       "\n",
       "   production_budget        date studio    year  domestic_gross  ...  \\\n",
       "0        410600000.0  2011-05-20     BV  2011.0     241063875.0  ...   \n",
       "1        330600000.0  2015-05-01     BV  2015.0     459005868.0  ...   \n",
       "2        300000000.0  2018-04-27     BV  2018.0     678815482.0  ...   \n",
       "3        300000000.0  2017-11-17     WB  2017.0     229024295.0  ...   \n",
       "4        300000000.0  2015-11-06   Sony  2015.0     200074175.0  ...   \n",
       "\n",
       "   Comedy_gross Western_gross  Thriller_gross  Talk-Show_gross  Musical_gross  \\\n",
       "0           0.0           0.0             0.0              0.0            0.0   \n",
       "1           0.0           0.0             0.0              0.0            0.0   \n",
       "2           0.0           0.0             0.0              0.0            0.0   \n",
       "3           0.0           0.0             0.0              0.0            0.0   \n",
       "4           0.0           0.0     879620923.0              0.0            0.0   \n",
       "\n",
       "   Romance_gross  Sci-Fi_gross  Adult_gross  Adventure_gross  History_gross  \n",
       "0            0.0  0.000000e+00          0.0     1.045664e+09            0.0  \n",
       "1            0.0  1.403014e+09          0.0     1.403014e+09            0.0  \n",
       "2            0.0  2.048134e+09          0.0     2.048134e+09            0.0  \n",
       "3            0.0  0.000000e+00          0.0     6.559452e+08            0.0  \n",
       "4            0.0  0.000000e+00          0.0     8.796209e+08            0.0  \n",
       "\n",
       "[5 rows x 111 columns]"
      ]
     },
     "execution_count": 33,
     "metadata": {},
     "output_type": "execute_result"
    }
   ],
   "source": [
    "df.head()"
   ]
  },
  {
   "cell_type": "code",
   "execution_count": 127,
   "metadata": {
    "scrolled": false
   },
   "outputs": [
    {
     "name": "stdout",
     "output_type": "stream",
     "text": [
      "<class 'pandas.core.frame.DataFrame'>\n",
      "RangeIndex: 3859 entries, 0 to 3858\n",
      "Columns: 111 entries, Unnamed: 0 to History_gross\n",
      "dtypes: float64(60), int64(10), object(41)\n",
      "memory usage: 3.3+ MB\n"
     ]
    }
   ],
   "source": [
    "df.info()"
   ]
  },
  {
   "cell_type": "code",
   "execution_count": 5,
   "metadata": {
    "scrolled": false
   },
   "outputs": [
    {
     "data": {
      "image/png": "[encoded data removed]",
      "text/plain": [
       "<Figure size 720x576 with 1 Axes>"
      ]
     },
     "metadata": {
      "needs_background": "light"
     },
     "output_type": "display_data"
    }
   ],
   "source": [
    "#Plotting to check the numvotes distribution\n",
    "votes = df[(df.numvotes.notnull() == True)& (df.numvotes > 0)]\n",
    "\n",
    "figure = plt.figure(figsize=(10, 8))\n",
    "binwidth =0.1\n",
    "axes = figure.add_subplot(1, 1, 1)\n",
    "axes.hist(votes.numvotes, bins=1000, color=\"darkslategray\", density = True)\n",
    "axes.set_title(\"Distribution of No. of Votes\")\n",
    "axes.set_xlabel(\"Votes\")\n",
    "\n",
    "plt.show()\n",
    "plt.close()"
   ]
  },
  {
   "cell_type": "code",
   "execution_count": 6,
   "metadata": {
    "scrolled": true
   },
   "outputs": [
    {
     "data": {
      "text/plain": [
       "count    3574.000000\n",
       "mean        8.869996\n",
       "std         2.694771\n",
       "min         1.609438\n",
       "25%         7.312382\n",
       "50%         9.248165\n",
       "75%        10.920704\n",
       "max        14.425855\n",
       "Name: log_votes, dtype: float64"
      ]
     },
     "execution_count": 6,
     "metadata": {},
     "output_type": "execute_result"
    }
   ],
   "source": [
    "#transforming numvotes\n",
    "votes = votes.loc[votes['numvotes'] > 0]\n",
    "votes['log_votes'] = votes['numvotes'].apply(np.log)\n",
    "votes['log_votes'].describe()"
   ]
  },
  {
   "cell_type": "code",
   "execution_count": 7,
   "metadata": {
    "scrolled": false
   },
   "outputs": [
    {
     "data": {
      "image/png": "[encoded data removed]",
      "text/plain": [
       "<Figure size 720x576 with 1 Axes>"
      ]
     },
     "metadata": {
      "needs_background": "light"
     },
     "output_type": "display_data"
    }
   ],
   "source": [
    "#checking the numvotes distribution\n",
    "figure = plt.figure(figsize=(10, 8))\n",
    "axes = figure.add_subplot(1, 1, 1)\n",
    "axes.hist(votes.log_votes, bins=50, color=\"darkslategray\", density = True)\n",
    "axes.set_title(\"Distribution of No. of Votes\")\n",
    "axes.set_xlabel(\"Votes\")\n",
    "\n",
    "plt.show()\n",
    "plt.close()"
   ]
  },
  {
   "cell_type": "code",
   "execution_count": 79,
   "metadata": {
    "scrolled": true
   },
   "outputs": [
    {
     "data": {
      "text/plain": [
       "array([ 3.25809654, 12.53372818])"
      ]
     },
     "execution_count": 79,
     "metadata": {},
     "output_type": "execute_result"
    }
   ],
   "source": [
    "#minimum number of votes to consider movie\n",
    "stats.mstats.mquantiles( votes.log_votes, [0.05, 0.95])"
   ]
  },
  {
   "cell_type": "code",
   "execution_count": 80,
   "metadata": {},
   "outputs": [
    {
     "data": {
      "text/plain": [
       "25.997490132592233"
      ]
     },
     "execution_count": 80,
     "metadata": {},
     "output_type": "execute_result"
    }
   ],
   "source": [
    "#Converting the 95% CI of the sample\n",
    "np.exp(3.258)"
   ]
  },
  {
   "cell_type": "code",
   "execution_count": 9,
   "metadata": {
    "scrolled": true
   },
   "outputs": [],
   "source": [
    "df['gender_lead'] = 0\n",
    "#fill actor & actress order value\n",
    "df.actor_ordering = np.where(df.actor_ordering ==np.nan, df.actor_ordering.mean, df.actor_ordering)\n",
    "df.actress_ordering = np.where(df.actress_ordering ==np.nan, df.actress_ordering.mean, df.actress_ordering)"
   ]
  },
  {
   "cell_type": "code",
   "execution_count": 10,
   "metadata": {},
   "outputs": [
    {
     "data": {
      "text/html": [
       "<div>\n",
       "<style scoped>\n",
       "    .dataframe tbody tr th:only-of-type {\n",
       "        vertical-align: middle;\n",
       "    }\n",
       "\n",
       "    .dataframe tbody tr th {\n",
       "        vertical-align: top;\n",
       "    }\n",
       "\n",
       "    .dataframe thead th {\n",
       "        text-align: right;\n",
       "    }\n",
       "</style>\n",
       "<table border=\"1\" class=\"dataframe\">\n",
       "  <thead>\n",
       "    <tr style=\"text-align: right;\">\n",
       "      <th></th>\n",
       "      <th>Unnamed: 0</th>\n",
       "      <th>movie</th>\n",
       "      <th>title</th>\n",
       "      <th>id_y</th>\n",
       "      <th>release_date</th>\n",
       "      <th>production_budget</th>\n",
       "      <th>date</th>\n",
       "      <th>studio</th>\n",
       "      <th>year</th>\n",
       "      <th>domestic_gross</th>\n",
       "      <th>...</th>\n",
       "      <th>composer_age</th>\n",
       "      <th>archive_sound_age</th>\n",
       "      <th>cinematographer_age</th>\n",
       "      <th>actor_ordering</th>\n",
       "      <th>actress_ordering</th>\n",
       "      <th>actress_ratio</th>\n",
       "      <th>tconst_y</th>\n",
       "      <th>averagerating</th>\n",
       "      <th>numvotes</th>\n",
       "      <th>gender_lead</th>\n",
       "    </tr>\n",
       "  </thead>\n",
       "  <tbody>\n",
       "    <tr>\n",
       "      <th>0</th>\n",
       "      <td>0</td>\n",
       "      <td>Pirates of the Caribbean: On Stranger Tides</td>\n",
       "      <td>Pirates of the Caribbean: On Stranger Tides</td>\n",
       "      <td>2.0</td>\n",
       "      <td>May 20, 2011</td>\n",
       "      <td>410600000.0</td>\n",
       "      <td>2011-05-20</td>\n",
       "      <td>BV</td>\n",
       "      <td>2011.0</td>\n",
       "      <td>241063875.0</td>\n",
       "      <td>...</td>\n",
       "      <td>NaN</td>\n",
       "      <td>NaN</td>\n",
       "      <td>NaN</td>\n",
       "      <td>2.66667</td>\n",
       "      <td>2</td>\n",
       "      <td>0.25</td>\n",
       "      <td>tt1298650</td>\n",
       "      <td>6.6</td>\n",
       "      <td>447624.0</td>\n",
       "      <td>0</td>\n",
       "    </tr>\n",
       "    <tr>\n",
       "      <th>1</th>\n",
       "      <td>1</td>\n",
       "      <td>Avengers: Age of Ultron</td>\n",
       "      <td>Avengers: Age of Ultron</td>\n",
       "      <td>4.0</td>\n",
       "      <td>May 1, 2015</td>\n",
       "      <td>330600000.0</td>\n",
       "      <td>2015-05-01</td>\n",
       "      <td>BV</td>\n",
       "      <td>2015.0</td>\n",
       "      <td>459005868.0</td>\n",
       "      <td>...</td>\n",
       "      <td>NaN</td>\n",
       "      <td>NaN</td>\n",
       "      <td>NaN</td>\n",
       "      <td>2.5</td>\n",
       "      <td>NaN</td>\n",
       "      <td>0.00</td>\n",
       "      <td>tt2395427</td>\n",
       "      <td>7.3</td>\n",
       "      <td>665594.0</td>\n",
       "      <td>0</td>\n",
       "    </tr>\n",
       "    <tr>\n",
       "      <th>2</th>\n",
       "      <td>2</td>\n",
       "      <td>Avengers: Infinity War</td>\n",
       "      <td>Avengers: Infinity War</td>\n",
       "      <td>7.0</td>\n",
       "      <td>Apr 27, 2018</td>\n",
       "      <td>300000000.0</td>\n",
       "      <td>2018-04-27</td>\n",
       "      <td>BV</td>\n",
       "      <td>2018.0</td>\n",
       "      <td>678815482.0</td>\n",
       "      <td>...</td>\n",
       "      <td>NaN</td>\n",
       "      <td>NaN</td>\n",
       "      <td>NaN</td>\n",
       "      <td>2.5</td>\n",
       "      <td>NaN</td>\n",
       "      <td>0.00</td>\n",
       "      <td>tt4154756</td>\n",
       "      <td>8.5</td>\n",
       "      <td>670926.0</td>\n",
       "      <td>0</td>\n",
       "    </tr>\n",
       "    <tr>\n",
       "      <th>3</th>\n",
       "      <td>3</td>\n",
       "      <td>Justice League</td>\n",
       "      <td>Justice League</td>\n",
       "      <td>9.0</td>\n",
       "      <td>Nov 17, 2017</td>\n",
       "      <td>300000000.0</td>\n",
       "      <td>2017-11-17</td>\n",
       "      <td>WB</td>\n",
       "      <td>2017.0</td>\n",
       "      <td>229024295.0</td>\n",
       "      <td>...</td>\n",
       "      <td>NaN</td>\n",
       "      <td>NaN</td>\n",
       "      <td>NaN</td>\n",
       "      <td>2.66667</td>\n",
       "      <td>2</td>\n",
       "      <td>0.25</td>\n",
       "      <td>tt0974015</td>\n",
       "      <td>6.5</td>\n",
       "      <td>329135.0</td>\n",
       "      <td>0</td>\n",
       "    </tr>\n",
       "    <tr>\n",
       "      <th>4</th>\n",
       "      <td>4</td>\n",
       "      <td>Spectre</td>\n",
       "      <td>Spectre</td>\n",
       "      <td>10.0</td>\n",
       "      <td>Nov 6, 2015</td>\n",
       "      <td>300000000.0</td>\n",
       "      <td>2015-11-06</td>\n",
       "      <td>Sony</td>\n",
       "      <td>2015.0</td>\n",
       "      <td>200074175.0</td>\n",
       "      <td>...</td>\n",
       "      <td>NaN</td>\n",
       "      <td>NaN</td>\n",
       "      <td>NaN</td>\n",
       "      <td>2.33333</td>\n",
       "      <td>3</td>\n",
       "      <td>0.25</td>\n",
       "      <td>tt2379713</td>\n",
       "      <td>6.8</td>\n",
       "      <td>352504.0</td>\n",
       "      <td>0</td>\n",
       "    </tr>\n",
       "  </tbody>\n",
       "</table>\n",
       "<p>5 rows × 84 columns</p>\n",
       "</div>"
      ],
      "text/plain": [
       "   Unnamed: 0                                        movie  \\\n",
       "0           0  Pirates of the Caribbean: On Stranger Tides   \n",
       "1           1                      Avengers: Age of Ultron   \n",
       "2           2                       Avengers: Infinity War   \n",
       "3           3                               Justice League   \n",
       "4           4                                      Spectre   \n",
       "\n",
       "                                         title  id_y  release_date  \\\n",
       "0  Pirates of the Caribbean: On Stranger Tides   2.0  May 20, 2011   \n",
       "1                      Avengers: Age of Ultron   4.0   May 1, 2015   \n",
       "2                       Avengers: Infinity War   7.0  Apr 27, 2018   \n",
       "3                               Justice League   9.0  Nov 17, 2017   \n",
       "4                                      Spectre  10.0   Nov 6, 2015   \n",
       "\n",
       "   production_budget        date studio    year  domestic_gross  ...  \\\n",
       "0        410600000.0  2011-05-20     BV  2011.0     241063875.0  ...   \n",
       "1        330600000.0  2015-05-01     BV  2015.0     459005868.0  ...   \n",
       "2        300000000.0  2018-04-27     BV  2018.0     678815482.0  ...   \n",
       "3        300000000.0  2017-11-17     WB  2017.0     229024295.0  ...   \n",
       "4        300000000.0  2015-11-06   Sony  2015.0     200074175.0  ...   \n",
       "\n",
       "   composer_age archive_sound_age  cinematographer_age  actor_ordering  \\\n",
       "0           NaN               NaN                  NaN         2.66667   \n",
       "1           NaN               NaN                  NaN             2.5   \n",
       "2           NaN               NaN                  NaN             2.5   \n",
       "3           NaN               NaN                  NaN         2.66667   \n",
       "4           NaN               NaN                  NaN         2.33333   \n",
       "\n",
       "   actress_ordering  actress_ratio   tconst_y  averagerating  numvotes  \\\n",
       "0                 2           0.25  tt1298650            6.6  447624.0   \n",
       "1               NaN           0.00  tt2395427            7.3  665594.0   \n",
       "2               NaN           0.00  tt4154756            8.5  670926.0   \n",
       "3                 2           0.25  tt0974015            6.5  329135.0   \n",
       "4                 3           0.25  tt2379713            6.8  352504.0   \n",
       "\n",
       "   gender_lead  \n",
       "0            0  \n",
       "1            0  \n",
       "2            0  \n",
       "3            0  \n",
       "4            0  \n",
       "\n",
       "[5 rows x 84 columns]"
      ]
     },
     "execution_count": 10,
     "metadata": {},
     "output_type": "execute_result"
    }
   ],
   "source": [
    "df.head()"
   ]
  },
  {
   "cell_type": "code",
   "execution_count": 12,
   "metadata": {
    "scrolled": true
   },
   "outputs": [],
   "source": [
    "#creating a series for gender of lead actor/actress\n",
    "df.gender_lead = np.where(df.actor_ordering < df.actress_ordering,'male', 'female')\n",
    "\n",
    "#filling in missing world gross\n",
    "df.worldwide_gross = np.where(df.worldwide_gross ==np.nan, df.worldwide_gross.mean(), df.worldwide_gross)"
   ]
  },
  {
   "cell_type": "code",
   "execution_count": 13,
   "metadata": {},
   "outputs": [],
   "source": [
    "genres = ['Mystery', 'Drama',\n",
    "       'Animation', 'Game-Show', 'News', 'Biography', 'Short', 'Action',\n",
    "       'Family', 'Sport', 'Crime', 'War', 'Horror', 'Music', 'Reality-TV',\n",
    "       'Fantasy', 'Documentary', 'Comedy', 'Western', 'Thriller', 'Talk-Show',\n",
    "       'Musical', 'Romance', 'Sci-Fi', 'Adult', 'Adventure', 'History']"
   ]
  },
  {
   "cell_type": "code",
   "execution_count": 14,
   "metadata": {
    "scrolled": true
   },
   "outputs": [],
   "source": [
    "for genre in genres:\n",
    "    df[(genre +'_gross')] = None"
   ]
  },
  {
   "cell_type": "code",
   "execution_count": 16,
   "metadata": {
    "scrolled": true
   },
   "outputs": [],
   "source": [
    "for genre in genres:\n",
    "    df[(genre +'_gross')] = np.where(df[genre] == True, df.worldwide_gross, 0)"
   ]
  },
  {
   "cell_type": "code",
   "execution_count": 81,
   "metadata": {
    "scrolled": true
   },
   "outputs": [],
   "source": [
    "female_gross = df[(df.gender_lead == 'female')&(df.numvotes > 26)][['Mystery_gross',\n",
    " 'Drama_gross',\n",
    " 'Animation_gross',\n",
    " 'Game-Show_gross',\n",
    " 'News_gross',\n",
    " 'Biography_gross',\n",
    " 'Short_gross',\n",
    " 'Action_gross',\n",
    " 'Family_gross',\n",
    " 'Sport_gross',\n",
    " 'Crime_gross',\n",
    " 'War_gross',\n",
    " 'Horror_gross',\n",
    " 'Music_gross',\n",
    " 'Reality-TV_gross',\n",
    " 'Fantasy_gross',\n",
    " 'Documentary_gross',\n",
    " 'Comedy_gross',\n",
    " 'Western_gross',\n",
    " 'Thriller_gross',\n",
    " 'Talk-Show_gross',\n",
    " 'Musical_gross',\n",
    " 'Romance_gross',\n",
    " 'Sci-Fi_gross',\n",
    " 'Adult_gross',\n",
    " 'Adventure_gross',\n",
    " 'History_gross']]"
   ]
  },
  {
   "cell_type": "code",
   "execution_count": 82,
   "metadata": {
    "scrolled": true
   },
   "outputs": [],
   "source": [
    "male_gross = df[(df.gender_lead == 'male')&(df.numvotes > 26)][['Mystery_gross',\n",
    " 'Drama_gross',\n",
    " 'Animation_gross',\n",
    " 'Game-Show_gross',\n",
    " 'News_gross',\n",
    " 'Biography_gross',\n",
    " 'Short_gross',\n",
    " 'Action_gross',\n",
    " 'Family_gross',\n",
    " 'Sport_gross',\n",
    " 'Crime_gross',\n",
    " 'War_gross',\n",
    " 'Horror_gross',\n",
    " 'Music_gross',\n",
    " 'Reality-TV_gross',\n",
    " 'Fantasy_gross',\n",
    " 'Documentary_gross',\n",
    " 'Comedy_gross',\n",
    " 'Western_gross',\n",
    " 'Thriller_gross',\n",
    " 'Talk-Show_gross',\n",
    " 'Musical_gross',\n",
    " 'Romance_gross',\n",
    " 'Sci-Fi_gross',\n",
    " 'Adult_gross',\n",
    " 'Adventure_gross',\n",
    " 'History_gross']]"
   ]
  },
  {
   "cell_type": "code",
   "execution_count": 19,
   "metadata": {},
   "outputs": [
    {
     "data": {
      "text/html": [
       "<div>\n",
       "<style scoped>\n",
       "    .dataframe tbody tr th:only-of-type {\n",
       "        vertical-align: middle;\n",
       "    }\n",
       "\n",
       "    .dataframe tbody tr th {\n",
       "        vertical-align: top;\n",
       "    }\n",
       "\n",
       "    .dataframe thead th {\n",
       "        text-align: right;\n",
       "    }\n",
       "</style>\n",
       "<table border=\"1\" class=\"dataframe\">\n",
       "  <thead>\n",
       "    <tr style=\"text-align: right;\">\n",
       "      <th></th>\n",
       "      <th>Mystery_gross</th>\n",
       "      <th>Drama_gross</th>\n",
       "      <th>Animation_gross</th>\n",
       "      <th>Game-Show_gross</th>\n",
       "      <th>News_gross</th>\n",
       "      <th>Biography_gross</th>\n",
       "      <th>Short_gross</th>\n",
       "      <th>Action_gross</th>\n",
       "      <th>Family_gross</th>\n",
       "      <th>Sport_gross</th>\n",
       "      <th>...</th>\n",
       "      <th>Comedy_gross</th>\n",
       "      <th>Western_gross</th>\n",
       "      <th>Thriller_gross</th>\n",
       "      <th>Talk-Show_gross</th>\n",
       "      <th>Musical_gross</th>\n",
       "      <th>Romance_gross</th>\n",
       "      <th>Sci-Fi_gross</th>\n",
       "      <th>Adult_gross</th>\n",
       "      <th>Adventure_gross</th>\n",
       "      <th>History_gross</th>\n",
       "    </tr>\n",
       "  </thead>\n",
       "  <tbody>\n",
       "    <tr>\n",
       "      <th>4</th>\n",
       "      <td>0.0</td>\n",
       "      <td>0.0</td>\n",
       "      <td>0.0</td>\n",
       "      <td>0.0</td>\n",
       "      <td>0.0</td>\n",
       "      <td>0.0</td>\n",
       "      <td>0.0</td>\n",
       "      <td>8.796209e+08</td>\n",
       "      <td>0.0</td>\n",
       "      <td>0.0</td>\n",
       "      <td>...</td>\n",
       "      <td>0.0</td>\n",
       "      <td>0.0</td>\n",
       "      <td>8.796209e+08</td>\n",
       "      <td>0.0</td>\n",
       "      <td>0.0</td>\n",
       "      <td>0.0</td>\n",
       "      <td>0.000000e+00</td>\n",
       "      <td>0.0</td>\n",
       "      <td>8.796209e+08</td>\n",
       "      <td>0.0</td>\n",
       "    </tr>\n",
       "    <tr>\n",
       "      <th>5</th>\n",
       "      <td>0.0</td>\n",
       "      <td>0.0</td>\n",
       "      <td>0.0</td>\n",
       "      <td>0.0</td>\n",
       "      <td>0.0</td>\n",
       "      <td>0.0</td>\n",
       "      <td>0.0</td>\n",
       "      <td>1.084439e+09</td>\n",
       "      <td>0.0</td>\n",
       "      <td>0.0</td>\n",
       "      <td>...</td>\n",
       "      <td>0.0</td>\n",
       "      <td>0.0</td>\n",
       "      <td>1.084439e+09</td>\n",
       "      <td>0.0</td>\n",
       "      <td>0.0</td>\n",
       "      <td>0.0</td>\n",
       "      <td>0.000000e+00</td>\n",
       "      <td>0.0</td>\n",
       "      <td>0.000000e+00</td>\n",
       "      <td>0.0</td>\n",
       "    </tr>\n",
       "    <tr>\n",
       "      <th>7</th>\n",
       "      <td>0.0</td>\n",
       "      <td>0.0</td>\n",
       "      <td>0.0</td>\n",
       "      <td>0.0</td>\n",
       "      <td>0.0</td>\n",
       "      <td>0.0</td>\n",
       "      <td>0.0</td>\n",
       "      <td>3.931513e+08</td>\n",
       "      <td>0.0</td>\n",
       "      <td>0.0</td>\n",
       "      <td>...</td>\n",
       "      <td>0.0</td>\n",
       "      <td>0.0</td>\n",
       "      <td>0.000000e+00</td>\n",
       "      <td>0.0</td>\n",
       "      <td>0.0</td>\n",
       "      <td>0.0</td>\n",
       "      <td>0.000000e+00</td>\n",
       "      <td>0.0</td>\n",
       "      <td>3.931513e+08</td>\n",
       "      <td>0.0</td>\n",
       "    </tr>\n",
       "    <tr>\n",
       "      <th>9</th>\n",
       "      <td>0.0</td>\n",
       "      <td>0.0</td>\n",
       "      <td>0.0</td>\n",
       "      <td>0.0</td>\n",
       "      <td>0.0</td>\n",
       "      <td>0.0</td>\n",
       "      <td>0.0</td>\n",
       "      <td>2.827781e+08</td>\n",
       "      <td>0.0</td>\n",
       "      <td>0.0</td>\n",
       "      <td>...</td>\n",
       "      <td>0.0</td>\n",
       "      <td>0.0</td>\n",
       "      <td>0.000000e+00</td>\n",
       "      <td>0.0</td>\n",
       "      <td>0.0</td>\n",
       "      <td>0.0</td>\n",
       "      <td>2.827781e+08</td>\n",
       "      <td>0.0</td>\n",
       "      <td>2.827781e+08</td>\n",
       "      <td>0.0</td>\n",
       "    </tr>\n",
       "    <tr>\n",
       "      <th>11</th>\n",
       "      <td>0.0</td>\n",
       "      <td>0.0</td>\n",
       "      <td>0.0</td>\n",
       "      <td>0.0</td>\n",
       "      <td>0.0</td>\n",
       "      <td>0.0</td>\n",
       "      <td>0.0</td>\n",
       "      <td>1.140069e+09</td>\n",
       "      <td>0.0</td>\n",
       "      <td>0.0</td>\n",
       "      <td>...</td>\n",
       "      <td>0.0</td>\n",
       "      <td>0.0</td>\n",
       "      <td>0.000000e+00</td>\n",
       "      <td>0.0</td>\n",
       "      <td>0.0</td>\n",
       "      <td>0.0</td>\n",
       "      <td>1.140069e+09</td>\n",
       "      <td>0.0</td>\n",
       "      <td>1.140069e+09</td>\n",
       "      <td>0.0</td>\n",
       "    </tr>\n",
       "  </tbody>\n",
       "</table>\n",
       "<p>5 rows × 27 columns</p>\n",
       "</div>"
      ],
      "text/plain": [
       "    Mystery_gross  Drama_gross  Animation_gross  Game-Show_gross  News_gross  \\\n",
       "4             0.0          0.0              0.0              0.0         0.0   \n",
       "5             0.0          0.0              0.0              0.0         0.0   \n",
       "7             0.0          0.0              0.0              0.0         0.0   \n",
       "9             0.0          0.0              0.0              0.0         0.0   \n",
       "11            0.0          0.0              0.0              0.0         0.0   \n",
       "\n",
       "    Biography_gross  Short_gross  Action_gross  Family_gross  Sport_gross  \\\n",
       "4               0.0          0.0  8.796209e+08           0.0          0.0   \n",
       "5               0.0          0.0  1.084439e+09           0.0          0.0   \n",
       "7               0.0          0.0  3.931513e+08           0.0          0.0   \n",
       "9               0.0          0.0  2.827781e+08           0.0          0.0   \n",
       "11              0.0          0.0  1.140069e+09           0.0          0.0   \n",
       "\n",
       "    ...  Comedy_gross  Western_gross  Thriller_gross  Talk-Show_gross  \\\n",
       "4   ...           0.0            0.0    8.796209e+08              0.0   \n",
       "5   ...           0.0            0.0    1.084439e+09              0.0   \n",
       "7   ...           0.0            0.0    0.000000e+00              0.0   \n",
       "9   ...           0.0            0.0    0.000000e+00              0.0   \n",
       "11  ...           0.0            0.0    0.000000e+00              0.0   \n",
       "\n",
       "    Musical_gross  Romance_gross  Sci-Fi_gross  Adult_gross  Adventure_gross  \\\n",
       "4             0.0            0.0  0.000000e+00          0.0     8.796209e+08   \n",
       "5             0.0            0.0  0.000000e+00          0.0     0.000000e+00   \n",
       "7             0.0            0.0  0.000000e+00          0.0     3.931513e+08   \n",
       "9             0.0            0.0  2.827781e+08          0.0     2.827781e+08   \n",
       "11            0.0            0.0  1.140069e+09          0.0     1.140069e+09   \n",
       "\n",
       "    History_gross  \n",
       "4             0.0  \n",
       "5             0.0  \n",
       "7             0.0  \n",
       "9             0.0  \n",
       "11            0.0  \n",
       "\n",
       "[5 rows x 27 columns]"
      ]
     },
     "execution_count": 19,
     "metadata": {},
     "output_type": "execute_result"
    }
   ],
   "source": [
    "male_gross.head()"
   ]
  },
  {
   "cell_type": "markdown",
   "metadata": {},
   "source": []
  },
  {
   "cell_type": "code",
   "execution_count": null,
   "metadata": {},
   "outputs": [],
   "source": []
  },
  {
   "cell_type": "code",
   "execution_count": 83,
   "metadata": {},
   "outputs": [],
   "source": [
    "#computing the mean per genre per gender\n",
    "for x in female_gross:\n",
    "    female_gross[x]= female_gross[x].mean()\n",
    "    male_gross[x]= male_gross[x].mean()"
   ]
  },
  {
   "cell_type": "code",
   "execution_count": 84,
   "metadata": {},
   "outputs": [],
   "source": [
    "#generating an empty dataframe\n",
    "genre_avg_gross_f=pd.DataFrame()\n",
    "genre_avg_gross_m= pd.DataFrame()"
   ]
  },
  {
   "cell_type": "code",
   "execution_count": 85,
   "metadata": {},
   "outputs": [],
   "source": [
    "genre_avg_gross_f = female_gross.iloc[0,:]\n",
    "genre_avg_gross_m = male_gross.iloc[0,:]"
   ]
  },
  {
   "cell_type": "code",
   "execution_count": 86,
   "metadata": {},
   "outputs": [
    {
     "data": {
      "text/plain": [
       "Mystery_gross        4.857939e+06\n",
       "Drama_gross          2.959556e+07\n",
       "Animation_gross      1.015696e+07\n",
       "Game-Show_gross      0.000000e+00\n",
       "News_gross           1.811068e+04\n",
       "Biography_gross      4.878503e+06\n",
       "Short_gross          0.000000e+00\n",
       "Action_gross         3.206709e+07\n",
       "Family_gross         4.823963e+06\n",
       "Sport_gross          1.560591e+06\n",
       "Crime_gross          5.583990e+06\n",
       "War_gross            5.286555e+05\n",
       "Horror_gross         4.913527e+06\n",
       "Music_gross          2.455043e+06\n",
       "Reality-TV_gross     0.000000e+00\n",
       "Fantasy_gross        1.295833e+07\n",
       "Documentary_gross    1.935953e+06\n",
       "Comedy_gross         2.470226e+07\n",
       "Western_gross        3.534792e+05\n",
       "Thriller_gross       9.686351e+06\n",
       "Talk-Show_gross      0.000000e+00\n",
       "Musical_gross        8.838970e+05\n",
       "Romance_gross        8.065968e+06\n",
       "Sci-Fi_gross         1.001966e+07\n",
       "Adult_gross          0.000000e+00\n",
       "Adventure_gross      3.782452e+07\n",
       "History_gross        2.145611e+06\n",
       "Name: 0, dtype: float64"
      ]
     },
     "execution_count": 86,
     "metadata": {},
     "output_type": "execute_result"
    }
   ],
   "source": [
    "genre_avg_gross_f"
   ]
  },
  {
   "cell_type": "code",
   "execution_count": 87,
   "metadata": {},
   "outputs": [
    {
     "data": {
      "text/plain": [
       "Mystery_gross        4.007265e+06\n",
       "Drama_gross          3.119645e+07\n",
       "Animation_gross      1.632532e+07\n",
       "Game-Show_gross      0.000000e+00\n",
       "News_gross           0.000000e+00\n",
       "Biography_gross      4.211507e+06\n",
       "Short_gross          0.000000e+00\n",
       "Action_gross         4.986847e+07\n",
       "Family_gross         5.090433e+06\n",
       "Sport_gross          6.198229e+05\n",
       "Crime_gross          1.098977e+07\n",
       "War_gross            6.118122e+04\n",
       "Horror_gross         5.575320e+06\n",
       "Music_gross          1.641415e+06\n",
       "Reality-TV_gross     0.000000e+00\n",
       "Fantasy_gross        9.498737e+06\n",
       "Documentary_gross    1.624202e+05\n",
       "Comedy_gross         3.264150e+07\n",
       "Western_gross        7.337191e+05\n",
       "Thriller_gross       1.655819e+07\n",
       "Talk-Show_gross      0.000000e+00\n",
       "Musical_gross        1.191612e+06\n",
       "Romance_gross        4.419705e+06\n",
       "Sci-Fi_gross         1.835642e+07\n",
       "Adult_gross          0.000000e+00\n",
       "Adventure_gross      4.893468e+07\n",
       "History_gross        1.063463e+06\n",
       "Name: 4, dtype: float64"
      ]
     },
     "execution_count": 87,
     "metadata": {},
     "output_type": "execute_result"
    }
   ],
   "source": [
    "genre_avg_gross_m"
   ]
  },
  {
   "cell_type": "code",
   "execution_count": 88,
   "metadata": {
    "scrolled": true
   },
   "outputs": [],
   "source": [
    "#Renaming Indices to use as X-labels\n",
    "genre_avg_gross_f.index = genre_avg_gross_f.index.str.replace('_gross', '')\n",
    "genre_avg_gross_m.index = genre_avg_gross_m.index.str.replace('_gross', '')"
   ]
  },
  {
   "cell_type": "code",
   "execution_count": 89,
   "metadata": {},
   "outputs": [
    {
     "data": {
      "image/png": "[encoded data removed]",
      "text/plain": [
       "<Figure size 1080x720 with 1 Axes>"
      ]
     },
     "metadata": {
      "needs_background": "light"
     },
     "output_type": "display_data"
    }
   ],
   "source": [
    "figure = plt.figure(figsize=(15, 10))\n",
    "axes = figure.add_subplot(2, 1, 1)\n",
    "# set width of bar\n",
    "barWidth = 0.3\n",
    " \n",
    "# set height of bar\n",
    "bars1 = genre_avg_gross_f\n",
    "bars2 = genre_avg_gross_m\n",
    "\n",
    " \n",
    "# Set position of bar on X axis\n",
    "r1 = np.arange(len(bars1))\n",
    "r2 = [x + barWidth for x in r1]\n",
    " \n",
    "# Make the plot\n",
    "plt.bar(r1, bars1, color='#7f6d5f', width=barWidth, edgecolor='white', label='Female Lead')\n",
    "plt.bar(r2, bars2, color='#557f2d', width=barWidth, edgecolor='white', label='Male Lead')\n",
    "\n",
    " \n",
    "# Add xticks on the middle of the group bars\n",
    "plt.xlabel('Genre', fontweight='bold')\n",
    "plt.ylabel('Tens of Millions', fontweight='bold')\n",
    "plt.xticks([r + barWidth for r in range(len(bars1))], list(genre_avg_gross_f.index))\n",
    "axes.set_xticklabels(axes.get_xticklabels(),rotation=30)\n",
    "\n",
    "plt.title('Avg. Movie Gross per Genre')\n",
    "# Create legend & Show graphic\n",
    "plt.legend()\n",
    "plt.show()\n"
   ]
  },
  {
   "cell_type": "markdown",
   "metadata": {},
   "source": [
    "## Movie Length based on votes and gross"
   ]
  },
  {
   "cell_type": "code",
   "execution_count": 90,
   "metadata": {},
   "outputs": [],
   "source": [
    "df_run_gross = df[(df['numvotes']>25)]"
   ]
  },
  {
   "cell_type": "code",
   "execution_count": 91,
   "metadata": {},
   "outputs": [
    {
     "name": "stderr",
     "output_type": "stream",
     "text": [
      "/home/allan/anaconda3/lib/python3.7/site-packages/pandas/core/generic.py:5096: SettingWithCopyWarning: \n",
      "A value is trying to be set on a copy of a slice from a DataFrame.\n",
      "Try using .loc[row_indexer,col_indexer] = value instead\n",
      "\n",
      "See the caveats in the documentation: http://pandas.pydata.org/pandas-docs/stable/indexing.html#indexing-view-versus-copy\n",
      "  self[name] = value\n"
     ]
    },
    {
     "data": {
      "text/html": [
       "<div>\n",
       "<style scoped>\n",
       "    .dataframe tbody tr th:only-of-type {\n",
       "        vertical-align: middle;\n",
       "    }\n",
       "\n",
       "    .dataframe tbody tr th {\n",
       "        vertical-align: top;\n",
       "    }\n",
       "\n",
       "    .dataframe thead th {\n",
       "        text-align: right;\n",
       "    }\n",
       "</style>\n",
       "<table border=\"1\" class=\"dataframe\">\n",
       "  <thead>\n",
       "    <tr style=\"text-align: right;\">\n",
       "      <th></th>\n",
       "      <th>worldwide_gross</th>\n",
       "      <th>runtime_minutes</th>\n",
       "    </tr>\n",
       "  </thead>\n",
       "  <tbody>\n",
       "    <tr>\n",
       "      <th>0</th>\n",
       "      <td>1.045664e+09</td>\n",
       "      <td>136.0</td>\n",
       "    </tr>\n",
       "    <tr>\n",
       "      <th>1</th>\n",
       "      <td>1.403014e+09</td>\n",
       "      <td>141.0</td>\n",
       "    </tr>\n",
       "    <tr>\n",
       "      <th>2</th>\n",
       "      <td>2.048134e+09</td>\n",
       "      <td>149.0</td>\n",
       "    </tr>\n",
       "    <tr>\n",
       "      <th>3</th>\n",
       "      <td>6.559452e+08</td>\n",
       "      <td>120.0</td>\n",
       "    </tr>\n",
       "    <tr>\n",
       "      <th>4</th>\n",
       "      <td>8.796209e+08</td>\n",
       "      <td>148.0</td>\n",
       "    </tr>\n",
       "  </tbody>\n",
       "</table>\n",
       "</div>"
      ],
      "text/plain": [
       "   worldwide_gross  runtime_minutes\n",
       "0     1.045664e+09            136.0\n",
       "1     1.403014e+09            141.0\n",
       "2     2.048134e+09            149.0\n",
       "3     6.559452e+08            120.0\n",
       "4     8.796209e+08            148.0"
      ]
     },
     "execution_count": 91,
     "metadata": {},
     "output_type": "execute_result"
    }
   ],
   "source": [
    "df_run_gross = df[['worldwide_gross','runtime_minutes']]\n",
    "df_run_gross.worldwide_gross = np.where(df_run_gross.worldwide_gross.isna() ==True, df_run_gross.worldwide_gross.mean(),df_run_gross.worldwide_gross)\n",
    "df_run_gross.runtime_minutes = np.where(df_run_gross.runtime_minutes.isna() ==True, df_run_gross.runtime_minutes.mean(),df_run_gross.runtime_minutes)\n",
    "df_run_gross.head()"
   ]
  },
  {
   "cell_type": "code",
   "execution_count": 92,
   "metadata": {
    "scrolled": true
   },
   "outputs": [
    {
     "data": {
      "text/plain": [
       "actress_ordering            748\n",
       "Drama_gross                 812\n",
       "actor_age                   851\n",
       "actress_age                1245\n",
       "worldwide_gross            1327\n",
       "director_age               1639\n",
       "release_date               2046\n",
       "production_budget          2046\n",
       "id_y                       2046\n",
       "movie                      2046\n",
       "date                       2046\n",
       "producer_age               2406\n",
       "writer_age                 2503\n",
       "composer_age               2869\n",
       "cinematographer_age        3317\n",
       "editor_age                 3666\n",
       "self_age                   3719\n",
       "archive_footage_age        3818\n",
       "production_designer_age    3824\n",
       "archive_sound_age          3858\n",
       "dtype: int64"
      ]
     },
     "execution_count": 92,
     "metadata": {},
     "output_type": "execute_result"
    }
   ],
   "source": [
    "df.isna().sum().sort_values().tail(20)"
   ]
  },
  {
   "cell_type": "code",
   "execution_count": 93,
   "metadata": {},
   "outputs": [],
   "source": [
    "df_with_budget = df[df.production_budget.notnull()]"
   ]
  },
  {
   "cell_type": "code",
   "execution_count": 94,
   "metadata": {},
   "outputs": [
    {
     "data": {
      "text/html": [
       "<div>\n",
       "<style scoped>\n",
       "    .dataframe tbody tr th:only-of-type {\n",
       "        vertical-align: middle;\n",
       "    }\n",
       "\n",
       "    .dataframe tbody tr th {\n",
       "        vertical-align: top;\n",
       "    }\n",
       "\n",
       "    .dataframe thead th {\n",
       "        text-align: right;\n",
       "    }\n",
       "</style>\n",
       "<table border=\"1\" class=\"dataframe\">\n",
       "  <thead>\n",
       "    <tr style=\"text-align: right;\">\n",
       "      <th></th>\n",
       "      <th>Unnamed: 0</th>\n",
       "      <th>movie</th>\n",
       "      <th>title</th>\n",
       "      <th>id_y</th>\n",
       "      <th>release_date</th>\n",
       "      <th>production_budget</th>\n",
       "      <th>date</th>\n",
       "      <th>studio</th>\n",
       "      <th>year</th>\n",
       "      <th>domestic_gross</th>\n",
       "      <th>...</th>\n",
       "      <th>Comedy_gross</th>\n",
       "      <th>Western_gross</th>\n",
       "      <th>Thriller_gross</th>\n",
       "      <th>Talk-Show_gross</th>\n",
       "      <th>Musical_gross</th>\n",
       "      <th>Romance_gross</th>\n",
       "      <th>Sci-Fi_gross</th>\n",
       "      <th>Adult_gross</th>\n",
       "      <th>Adventure_gross</th>\n",
       "      <th>History_gross</th>\n",
       "    </tr>\n",
       "  </thead>\n",
       "  <tbody>\n",
       "    <tr>\n",
       "      <th>0</th>\n",
       "      <td>0</td>\n",
       "      <td>Pirates of the Caribbean: On Stranger Tides</td>\n",
       "      <td>Pirates of the Caribbean: On Stranger Tides</td>\n",
       "      <td>2.0</td>\n",
       "      <td>May 20, 2011</td>\n",
       "      <td>410600000.0</td>\n",
       "      <td>2011-05-20</td>\n",
       "      <td>BV</td>\n",
       "      <td>2011.0</td>\n",
       "      <td>241063875.0</td>\n",
       "      <td>...</td>\n",
       "      <td>0.0</td>\n",
       "      <td>0.0</td>\n",
       "      <td>0.0</td>\n",
       "      <td>0.0</td>\n",
       "      <td>0.0</td>\n",
       "      <td>0.0</td>\n",
       "      <td>0.000000e+00</td>\n",
       "      <td>0.0</td>\n",
       "      <td>1.045664e+09</td>\n",
       "      <td>0.0</td>\n",
       "    </tr>\n",
       "    <tr>\n",
       "      <th>1</th>\n",
       "      <td>1</td>\n",
       "      <td>Avengers: Age of Ultron</td>\n",
       "      <td>Avengers: Age of Ultron</td>\n",
       "      <td>4.0</td>\n",
       "      <td>May 1, 2015</td>\n",
       "      <td>330600000.0</td>\n",
       "      <td>2015-05-01</td>\n",
       "      <td>BV</td>\n",
       "      <td>2015.0</td>\n",
       "      <td>459005868.0</td>\n",
       "      <td>...</td>\n",
       "      <td>0.0</td>\n",
       "      <td>0.0</td>\n",
       "      <td>0.0</td>\n",
       "      <td>0.0</td>\n",
       "      <td>0.0</td>\n",
       "      <td>0.0</td>\n",
       "      <td>1.403014e+09</td>\n",
       "      <td>0.0</td>\n",
       "      <td>1.403014e+09</td>\n",
       "      <td>0.0</td>\n",
       "    </tr>\n",
       "    <tr>\n",
       "      <th>2</th>\n",
       "      <td>2</td>\n",
       "      <td>Avengers: Infinity War</td>\n",
       "      <td>Avengers: Infinity War</td>\n",
       "      <td>7.0</td>\n",
       "      <td>Apr 27, 2018</td>\n",
       "      <td>300000000.0</td>\n",
       "      <td>2018-04-27</td>\n",
       "      <td>BV</td>\n",
       "      <td>2018.0</td>\n",
       "      <td>678815482.0</td>\n",
       "      <td>...</td>\n",
       "      <td>0.0</td>\n",
       "      <td>0.0</td>\n",
       "      <td>0.0</td>\n",
       "      <td>0.0</td>\n",
       "      <td>0.0</td>\n",
       "      <td>0.0</td>\n",
       "      <td>2.048134e+09</td>\n",
       "      <td>0.0</td>\n",
       "      <td>2.048134e+09</td>\n",
       "      <td>0.0</td>\n",
       "    </tr>\n",
       "    <tr>\n",
       "      <th>3</th>\n",
       "      <td>3</td>\n",
       "      <td>Justice League</td>\n",
       "      <td>Justice League</td>\n",
       "      <td>9.0</td>\n",
       "      <td>Nov 17, 2017</td>\n",
       "      <td>300000000.0</td>\n",
       "      <td>2017-11-17</td>\n",
       "      <td>WB</td>\n",
       "      <td>2017.0</td>\n",
       "      <td>229024295.0</td>\n",
       "      <td>...</td>\n",
       "      <td>0.0</td>\n",
       "      <td>0.0</td>\n",
       "      <td>0.0</td>\n",
       "      <td>0.0</td>\n",
       "      <td>0.0</td>\n",
       "      <td>0.0</td>\n",
       "      <td>0.000000e+00</td>\n",
       "      <td>0.0</td>\n",
       "      <td>6.559452e+08</td>\n",
       "      <td>0.0</td>\n",
       "    </tr>\n",
       "    <tr>\n",
       "      <th>4</th>\n",
       "      <td>4</td>\n",
       "      <td>Spectre</td>\n",
       "      <td>Spectre</td>\n",
       "      <td>10.0</td>\n",
       "      <td>Nov 6, 2015</td>\n",
       "      <td>300000000.0</td>\n",
       "      <td>2015-11-06</td>\n",
       "      <td>Sony</td>\n",
       "      <td>2015.0</td>\n",
       "      <td>200074175.0</td>\n",
       "      <td>...</td>\n",
       "      <td>0.0</td>\n",
       "      <td>0.0</td>\n",
       "      <td>879620923.0</td>\n",
       "      <td>0.0</td>\n",
       "      <td>0.0</td>\n",
       "      <td>0.0</td>\n",
       "      <td>0.000000e+00</td>\n",
       "      <td>0.0</td>\n",
       "      <td>8.796209e+08</td>\n",
       "      <td>0.0</td>\n",
       "    </tr>\n",
       "  </tbody>\n",
       "</table>\n",
       "<p>5 rows × 111 columns</p>\n",
       "</div>"
      ],
      "text/plain": [
       "   Unnamed: 0                                        movie  \\\n",
       "0           0  Pirates of the Caribbean: On Stranger Tides   \n",
       "1           1                      Avengers: Age of Ultron   \n",
       "2           2                       Avengers: Infinity War   \n",
       "3           3                               Justice League   \n",
       "4           4                                      Spectre   \n",
       "\n",
       "                                         title  id_y  release_date  \\\n",
       "0  Pirates of the Caribbean: On Stranger Tides   2.0  May 20, 2011   \n",
       "1                      Avengers: Age of Ultron   4.0   May 1, 2015   \n",
       "2                       Avengers: Infinity War   7.0  Apr 27, 2018   \n",
       "3                               Justice League   9.0  Nov 17, 2017   \n",
       "4                                      Spectre  10.0   Nov 6, 2015   \n",
       "\n",
       "   production_budget        date studio    year  domestic_gross  ...  \\\n",
       "0        410600000.0  2011-05-20     BV  2011.0     241063875.0  ...   \n",
       "1        330600000.0  2015-05-01     BV  2015.0     459005868.0  ...   \n",
       "2        300000000.0  2018-04-27     BV  2018.0     678815482.0  ...   \n",
       "3        300000000.0  2017-11-17     WB  2017.0     229024295.0  ...   \n",
       "4        300000000.0  2015-11-06   Sony  2015.0     200074175.0  ...   \n",
       "\n",
       "   Comedy_gross Western_gross  Thriller_gross  Talk-Show_gross  Musical_gross  \\\n",
       "0           0.0           0.0             0.0              0.0            0.0   \n",
       "1           0.0           0.0             0.0              0.0            0.0   \n",
       "2           0.0           0.0             0.0              0.0            0.0   \n",
       "3           0.0           0.0             0.0              0.0            0.0   \n",
       "4           0.0           0.0     879620923.0              0.0            0.0   \n",
       "\n",
       "   Romance_gross  Sci-Fi_gross  Adult_gross  Adventure_gross  History_gross  \n",
       "0            0.0  0.000000e+00          0.0     1.045664e+09            0.0  \n",
       "1            0.0  1.403014e+09          0.0     1.403014e+09            0.0  \n",
       "2            0.0  2.048134e+09          0.0     2.048134e+09            0.0  \n",
       "3            0.0  0.000000e+00          0.0     6.559452e+08            0.0  \n",
       "4            0.0  0.000000e+00          0.0     8.796209e+08            0.0  \n",
       "\n",
       "[5 rows x 111 columns]"
      ]
     },
     "execution_count": 94,
     "metadata": {},
     "output_type": "execute_result"
    }
   ],
   "source": [
    "df_with_budget.head()"
   ]
  },
  {
   "cell_type": "code",
   "execution_count": 63,
   "metadata": {
    "scrolled": true
   },
   "outputs": [
    {
     "data": {
      "text/plain": [
       "['Unnamed: 0',\n",
       " 'movie',\n",
       " 'title',\n",
       " 'id_y',\n",
       " 'release_date',\n",
       " 'production_budget',\n",
       " 'date',\n",
       " 'studio',\n",
       " 'year',\n",
       " 'domestic_gross',\n",
       " 'worldwide_gross',\n",
       " 'title_id',\n",
       " 'festival',\n",
       " 'D3',\n",
       " 'IMAX',\n",
       " 'title_y',\n",
       " 'region',\n",
       " 'language',\n",
       " 'types',\n",
       " 'attributes',\n",
       " 'tconst_x',\n",
       " 'primary_title',\n",
       " 'original_title',\n",
       " 'start_year',\n",
       " 'runtime_minutes',\n",
       " 'genres',\n",
       " 'Adventure',\n",
       " 'Action',\n",
       " 'Horror',\n",
       " 'Sci-Fi',\n",
       " 'Fantasy',\n",
       " 'History',\n",
       " 'Sport',\n",
       " 'Biography',\n",
       " 'Musical',\n",
       " 'Game-Show',\n",
       " 'Mystery',\n",
       " 'Crime',\n",
       " 'Short',\n",
       " 'Talk-Show',\n",
       " 'Thriller',\n",
       " 'Drama',\n",
       " 'Reality-TV',\n",
       " 'Adult',\n",
       " 'Animation',\n",
       " 'Documentary',\n",
       " 'Family',\n",
       " 'Western',\n",
       " 'War',\n",
       " 'Romance',\n",
       " 'News',\n",
       " 'Comedy',\n",
       " 'Music',\n",
       " 'archive_sound',\n",
       " 'writer',\n",
       " 'producer',\n",
       " 'actress',\n",
       " 'director',\n",
       " 'composer',\n",
       " 'cinematographer',\n",
       " 'self',\n",
       " 'editor',\n",
       " 'production_designer',\n",
       " 'actor',\n",
       " 'archive_footage',\n",
       " 'archive_footage_age',\n",
       " 'editor_age',\n",
       " 'director_age',\n",
       " 'actor_age',\n",
       " 'production_designer_age',\n",
       " 'actress_age',\n",
       " 'writer_age',\n",
       " 'self_age',\n",
       " 'producer_age',\n",
       " 'composer_age',\n",
       " 'archive_sound_age',\n",
       " 'cinematographer_age',\n",
       " 'actor_ordering',\n",
       " 'actress_ordering',\n",
       " 'actress_ratio',\n",
       " 'tconst_y',\n",
       " 'averagerating',\n",
       " 'numvotes',\n",
       " 'gender_lead',\n",
       " 'Mystery_gross',\n",
       " 'Drama_gross',\n",
       " 'Animation_gross',\n",
       " 'Game-Show_gross',\n",
       " 'News_gross',\n",
       " 'Biography_gross',\n",
       " 'Short_gross',\n",
       " 'Action_gross',\n",
       " 'Family_gross',\n",
       " 'Sport_gross',\n",
       " 'Crime_gross',\n",
       " 'War_gross',\n",
       " 'Horror_gross',\n",
       " 'Music_gross',\n",
       " 'Reality-TV_gross',\n",
       " 'Fantasy_gross',\n",
       " 'Documentary_gross',\n",
       " 'Comedy_gross',\n",
       " 'Western_gross',\n",
       " 'Thriller_gross',\n",
       " 'Talk-Show_gross',\n",
       " 'Musical_gross',\n",
       " 'Romance_gross',\n",
       " 'Sci-Fi_gross',\n",
       " 'Adult_gross',\n",
       " 'Adventure_gross',\n",
       " 'History_gross',\n",
       " 'Profit_Margin']"
      ]
     },
     "execution_count": 63,
     "metadata": {},
     "output_type": "execute_result"
    }
   ],
   "source": [
    "list(df_with_budget.columns)"
   ]
  },
  {
   "cell_type": "code",
   "execution_count": 99,
   "metadata": {},
   "outputs": [
    {
     "name": "stderr",
     "output_type": "stream",
     "text": [
      "/home/allan/anaconda3/lib/python3.7/site-packages/ipykernel_launcher.py:1: SettingWithCopyWarning: \n",
      "A value is trying to be set on a copy of a slice from a DataFrame.\n",
      "Try using .loc[row_indexer,col_indexer] = value instead\n",
      "\n",
      "See the caveats in the documentation: http://pandas.pydata.org/pandas-docs/stable/indexing.html#indexing-view-versus-copy\n",
      "  \"\"\"Entry point for launching an IPython kernel.\n"
     ]
    }
   ],
   "source": [
    "df_with_budget['Profit_Margin'] = (df_with_budget.worldwide_gross/df_with_budget.production_budget)*100"
   ]
  },
  {
   "cell_type": "code",
   "execution_count": 100,
   "metadata": {},
   "outputs": [
    {
     "data": {
      "text/plain": [
       "count     1813.000000\n",
       "mean       453.166622\n",
       "std       1214.474338\n",
       "min          0.000000\n",
       "25%        118.596690\n",
       "50%        246.732013\n",
       "75%        442.391321\n",
       "max      41656.474000\n",
       "Name: Profit_Margin, dtype: float64"
      ]
     },
     "execution_count": 100,
     "metadata": {},
     "output_type": "execute_result"
    }
   ],
   "source": [
    "df_with_budget.Profit_Margin.describe()"
   ]
  },
  {
   "cell_type": "code",
   "execution_count": 95,
   "metadata": {},
   "outputs": [
    {
     "name": "stderr",
     "output_type": "stream",
     "text": [
      "/home/allan/anaconda3/lib/python3.7/site-packages/numpy/lib/histograms.py:824: RuntimeWarning: invalid value encountered in greater_equal\n",
      "  keep = (tmp_a >= first_edge)\n",
      "/home/allan/anaconda3/lib/python3.7/site-packages/numpy/lib/histograms.py:825: RuntimeWarning: invalid value encountered in less_equal\n",
      "  keep &= (tmp_a <= last_edge)\n"
     ]
    },
    {
     "data": {
      "image/png": "[encoded data removed]",
      "text/plain": [
       "<Figure size 720x576 with 1 Axes>"
      ]
     },
     "metadata": {
      "needs_background": "light"
     },
     "output_type": "display_data"
    }
   ],
   "source": [
    "#checking the runtime distribution\n",
    "figure = plt.figure(figsize=(10, 8))\n",
    "axes = figure.add_subplot(1, 1, 1)\n",
    "axes.hist(df_with_budget.runtime_minutes, bins=50, color=\"darkslategray\", density = True)\n",
    "axes.set_title(\"Distribution of Runtime(Minutes)\")\n",
    "axes.set_xlabel(\"Minutes\")\n",
    "\n",
    "plt.show()\n",
    "plt.close()"
   ]
  },
  {
   "cell_type": "code",
   "execution_count": 97,
   "metadata": {},
   "outputs": [
    {
     "data": {
      "text/plain": [
       "array([ 93., 105., 119.])"
      ]
     },
     "execution_count": 97,
     "metadata": {},
     "output_type": "execute_result"
    }
   ],
   "source": [
    "stats.mstats.mquantiles( df_with_budget.runtime_minutes, [0.25, 0.50,0.75])"
   ]
  },
  {
   "cell_type": "code",
   "execution_count": 117,
   "metadata": {},
   "outputs": [
    {
     "name": "stderr",
     "output_type": "stream",
     "text": [
      "/home/allan/anaconda3/lib/python3.7/site-packages/ipykernel_launcher.py:3: UserWarning: Boolean Series key will be reindexed to match DataFrame index.\n",
      "  This is separate from the ipykernel package so we can avoid doing imports until\n",
      "/home/allan/anaconda3/lib/python3.7/site-packages/ipykernel_launcher.py:3: UserWarning: Boolean Series key will be reindexed to match DataFrame index.\n",
      "  This is separate from the ipykernel package so we can avoid doing imports until\n"
     ]
    },
    {
     "data": {
      "text/plain": [
       "<matplotlib.axes._subplots.AxesSubplot at 0x7f4ac2739048>"
      ]
     },
     "execution_count": 117,
     "metadata": {},
     "output_type": "execute_result"
    },
    {
     "data": {
      "image/png": "[encoded data removed]",
      "text/plain": [
       "<Figure size 1080x576 with 1 Axes>"
      ]
     },
     "metadata": {
      "needs_background": "light"
     },
     "output_type": "display_data"
    }
   ],
   "source": [
    "#sns.barplot(x=\"day\", y=\"total_bill\", data=tips)\n",
    "fig, ax = plt.subplots(figsize=(15,8))\n",
    "sns.barplot(y=df_with_budget[df.runtime_minutes<93]['runtime_minutes'], x=df_with_budget[df.runtime_minutes<93].Profit_Margin.sort_values(ascending=False).head(20).astype(int), data = df_with_budget, ax=ax)"
   ]
  },
  {
   "cell_type": "code",
   "execution_count": 118,
   "metadata": {},
   "outputs": [
    {
     "name": "stderr",
     "output_type": "stream",
     "text": [
      "/home/allan/anaconda3/lib/python3.7/site-packages/ipykernel_launcher.py:3: UserWarning: Boolean Series key will be reindexed to match DataFrame index.\n",
      "  This is separate from the ipykernel package so we can avoid doing imports until\n",
      "/home/allan/anaconda3/lib/python3.7/site-packages/ipykernel_launcher.py:3: UserWarning: Boolean Series key will be reindexed to match DataFrame index.\n",
      "  This is separate from the ipykernel package so we can avoid doing imports until\n"
     ]
    },
    {
     "data": {
      "text/plain": [
       "<matplotlib.axes._subplots.AxesSubplot at 0x7f4ac266f2b0>"
      ]
     },
     "execution_count": 118,
     "metadata": {},
     "output_type": "execute_result"
    },
    {
     "data": {
      "image/png": "[encoded data removed]",
      "text/plain": [
       "<Figure size 1080x576 with 1 Axes>"
      ]
     },
     "metadata": {
      "needs_background": "light"
     },
     "output_type": "display_data"
    }
   ],
   "source": [
    "#sns.barplot(x=\"day\", y=\"total_bill\", data=tips)\n",
    "fig, ax = plt.subplots(figsize=(15,8))\n",
    "sns.barplot(y=df_with_budget[(df.runtime_minutes>93)&(df.runtime_minutes<105)]['runtime_minutes'], x=df_with_budget[(df.runtime_minutes>93)&(df.runtime_minutes<105)].Profit_Margin.sort_values(ascending=False).head(20).astype(int), data = df_with_budget, ax=ax)"
   ]
  },
  {
   "cell_type": "code",
   "execution_count": 120,
   "metadata": {},
   "outputs": [
    {
     "name": "stderr",
     "output_type": "stream",
     "text": [
      "/home/allan/anaconda3/lib/python3.7/site-packages/ipykernel_launcher.py:3: UserWarning: Boolean Series key will be reindexed to match DataFrame index.\n",
      "  This is separate from the ipykernel package so we can avoid doing imports until\n",
      "/home/allan/anaconda3/lib/python3.7/site-packages/ipykernel_launcher.py:3: UserWarning: Boolean Series key will be reindexed to match DataFrame index.\n",
      "  This is separate from the ipykernel package so we can avoid doing imports until\n"
     ]
    },
    {
     "data": {
      "text/plain": [
       "<matplotlib.axes._subplots.AxesSubplot at 0x7f4ac257fc88>"
      ]
     },
     "execution_count": 120,
     "metadata": {},
     "output_type": "execute_result"
    },
    {
     "data": {
      "image/png": "[encoded data removed]",
      "text/plain": [
       "<Figure size 1080x576 with 1 Axes>"
      ]
     },
     "metadata": {
      "needs_background": "light"
     },
     "output_type": "display_data"
    }
   ],
   "source": [
    "#sns.barplot(x=\"day\", y=\"total_bill\", data=tips)\n",
    "fig, ax = plt.subplots(figsize=(15,8))\n",
    "sns.barplot(y=df_with_budget[df.runtime_minutes>119]['runtime_minutes'], x=df_with_budget[df.runtime_minutes>119].Profit_Margin.sort_values(ascending=False).head(20).astype(int), data = df_with_budget, ax=ax)"
   ]
  },
  {
   "cell_type": "markdown",
   "metadata": {},
   "source": [
    "# Overall Runtime vs Top 10 Profit Margin"
   ]
  },
  {
   "cell_type": "code",
   "execution_count": 126,
   "metadata": {},
   "outputs": [
    {
     "data": {
      "text/plain": [
       "<matplotlib.axes._subplots.AxesSubplot at 0x7f4ac2219470>"
      ]
     },
     "execution_count": 126,
     "metadata": {},
     "output_type": "execute_result"
    },
    {
     "data": {
      "image/png": "[encoded data removed]",
      "text/plain": [
       "<Figure size 1080x576 with 1 Axes>"
      ]
     },
     "metadata": {
      "needs_background": "light"
     },
     "output_type": "display_data"
    }
   ],
   "source": [
    "#sns.barplot(x=\"day\", y=\"total_bill\", data=tips)\n",
    "fig, ax = plt.subplots(figsize=(15,8))\n",
    "sns.barplot(y=df_with_budget.runtime_minutes, x=df_with_budget.Profit_Margin.sort_values(ascending=False).head(20).astype(int), data = df_with_budget, ax=ax)"
   ]
  },
  {
   "cell_type": "markdown",
   "metadata": {},
   "source": [
    "# actor/actress age for lead"
   ]
  },
  {
   "cell_type": "code",
   "execution_count": 61,
   "metadata": {},
   "outputs": [],
   "source": [
    "df_lead_age = df[['actor_ordering','actor_age','actress_ordering','actress_age','year']]"
   ]
  },
  {
   "cell_type": "code",
   "execution_count": 62,
   "metadata": {},
   "outputs": [
    {
     "data": {
      "text/plain": [
       "actor_ordering       369\n",
       "actor_age            785\n",
       "actress_ordering     687\n",
       "actress_age         1150\n",
       "year                   0\n",
       "dtype: int64"
      ]
     },
     "execution_count": 62,
     "metadata": {},
     "output_type": "execute_result"
    }
   ],
   "source": [
    "df_lead_age.isna().sum()"
   ]
  },
  {
   "cell_type": "code",
   "execution_count": 63,
   "metadata": {},
   "outputs": [
    {
     "name": "stderr",
     "output_type": "stream",
     "text": [
      "/home/allan/anaconda3/lib/python3.7/site-packages/pandas/core/generic.py:5096: SettingWithCopyWarning: \n",
      "A value is trying to be set on a copy of a slice from a DataFrame.\n",
      "Try using .loc[row_indexer,col_indexer] = value instead\n",
      "\n",
      "See the caveats in the documentation: http://pandas.pydata.org/pandas-docs/stable/indexing.html#indexing-view-versus-copy\n",
      "  self[name] = value\n"
     ]
    }
   ],
   "source": [
    "df_lead_age.actor_ordering = np.where(df_lead_age.actor_ordering.isna()==True, df_lead_age.actor_ordering.mean(),df_lead_age.actor_ordering)\n",
    "df_lead_age.actress_ordering = np.where(df_lead_age.actress_ordering.isna()==True, df_lead_age.actress_ordering.mean(),df_lead_age.actress_ordering )\n",
    "df_lead_age.actor_age = np.where(df_lead_age.actor_age.isna()==True, df_lead_age.actor_age.mean(),df_lead_age.actor_age)\n",
    "df_lead_age.actress_age = np.where(df_lead_age.actress_age.isna()==True, df_lead_age.actress_age.mean(),df_lead_age.actress_age )"
   ]
  },
  {
   "cell_type": "code",
   "execution_count": 64,
   "metadata": {},
   "outputs": [
    {
     "data": {
      "text/html": [
       "<div>\n",
       "<style scoped>\n",
       "    .dataframe tbody tr th:only-of-type {\n",
       "        vertical-align: middle;\n",
       "    }\n",
       "\n",
       "    .dataframe tbody tr th {\n",
       "        vertical-align: top;\n",
       "    }\n",
       "\n",
       "    .dataframe thead th {\n",
       "        text-align: right;\n",
       "    }\n",
       "</style>\n",
       "<table border=\"1\" class=\"dataframe\">\n",
       "  <thead>\n",
       "    <tr style=\"text-align: right;\">\n",
       "      <th></th>\n",
       "      <th>actor_ordering</th>\n",
       "      <th>actor_age</th>\n",
       "      <th>actress_ordering</th>\n",
       "      <th>actress_age</th>\n",
       "      <th>year</th>\n",
       "    </tr>\n",
       "  </thead>\n",
       "  <tbody>\n",
       "    <tr>\n",
       "      <th>0</th>\n",
       "      <td>2.33333</td>\n",
       "      <td>1962.666667</td>\n",
       "      <td>3</td>\n",
       "      <td>1986.000000</td>\n",
       "      <td>2016</td>\n",
       "    </tr>\n",
       "    <tr>\n",
       "      <th>1</th>\n",
       "      <td>1.5</td>\n",
       "      <td>1982.000000</td>\n",
       "      <td>3.5</td>\n",
       "      <td>1982.000000</td>\n",
       "      <td>2012</td>\n",
       "    </tr>\n",
       "    <tr>\n",
       "      <th>2</th>\n",
       "      <td>2.66667</td>\n",
       "      <td>1962.666667</td>\n",
       "      <td>2</td>\n",
       "      <td>1968.000000</td>\n",
       "      <td>2014</td>\n",
       "    </tr>\n",
       "    <tr>\n",
       "      <th>3</th>\n",
       "      <td>2</td>\n",
       "      <td>1965.000000</td>\n",
       "      <td>3</td>\n",
       "      <td>1973.000000</td>\n",
       "      <td>2013</td>\n",
       "    </tr>\n",
       "    <tr>\n",
       "      <th>4</th>\n",
       "      <td>2.5</td>\n",
       "      <td>1972.500000</td>\n",
       "      <td>2.61128</td>\n",
       "      <td>1976.650717</td>\n",
       "      <td>2014</td>\n",
       "    </tr>\n",
       "  </tbody>\n",
       "</table>\n",
       "</div>"
      ],
      "text/plain": [
       "  actor_ordering    actor_age actress_ordering  actress_age  year\n",
       "0        2.33333  1962.666667                3  1986.000000  2016\n",
       "1            1.5  1982.000000              3.5  1982.000000  2012\n",
       "2        2.66667  1962.666667                2  1968.000000  2014\n",
       "3              2  1965.000000                3  1973.000000  2013\n",
       "4            2.5  1972.500000          2.61128  1976.650717  2014"
      ]
     },
     "execution_count": 64,
     "metadata": {},
     "output_type": "execute_result"
    }
   ],
   "source": [
    "df_lead_age.head()"
   ]
  },
  {
   "cell_type": "code",
   "execution_count": 65,
   "metadata": {},
   "outputs": [
    {
     "name": "stderr",
     "output_type": "stream",
     "text": [
      "/home/allan/anaconda3/lib/python3.7/site-packages/ipykernel_launcher.py:1: SettingWithCopyWarning: \n",
      "A value is trying to be set on a copy of a slice from a DataFrame.\n",
      "Try using .loc[row_indexer,col_indexer] = value instead\n",
      "\n",
      "See the caveats in the documentation: http://pandas.pydata.org/pandas-docs/stable/indexing.html#indexing-view-versus-copy\n",
      "  \"\"\"Entry point for launching an IPython kernel.\n",
      "/home/allan/anaconda3/lib/python3.7/site-packages/ipykernel_launcher.py:2: SettingWithCopyWarning: \n",
      "A value is trying to be set on a copy of a slice from a DataFrame.\n",
      "Try using .loc[row_indexer,col_indexer] = value instead\n",
      "\n",
      "See the caveats in the documentation: http://pandas.pydata.org/pandas-docs/stable/indexing.html#indexing-view-versus-copy\n",
      "  \n"
     ]
    },
    {
     "data": {
      "text/html": [
       "<div>\n",
       "<style scoped>\n",
       "    .dataframe tbody tr th:only-of-type {\n",
       "        vertical-align: middle;\n",
       "    }\n",
       "\n",
       "    .dataframe tbody tr th {\n",
       "        vertical-align: top;\n",
       "    }\n",
       "\n",
       "    .dataframe thead th {\n",
       "        text-align: right;\n",
       "    }\n",
       "</style>\n",
       "<table border=\"1\" class=\"dataframe\">\n",
       "  <thead>\n",
       "    <tr style=\"text-align: right;\">\n",
       "      <th></th>\n",
       "      <th>actor_ordering</th>\n",
       "      <th>actor_age</th>\n",
       "      <th>actress_ordering</th>\n",
       "      <th>actress_age</th>\n",
       "      <th>year</th>\n",
       "      <th>actor_age_of_role</th>\n",
       "      <th>actress_age_of_role</th>\n",
       "    </tr>\n",
       "  </thead>\n",
       "  <tbody>\n",
       "    <tr>\n",
       "      <th>0</th>\n",
       "      <td>2.33333</td>\n",
       "      <td>1962.666667</td>\n",
       "      <td>3</td>\n",
       "      <td>1986.000000</td>\n",
       "      <td>2016</td>\n",
       "      <td>53.333333</td>\n",
       "      <td>30.000000</td>\n",
       "    </tr>\n",
       "    <tr>\n",
       "      <th>1</th>\n",
       "      <td>1.5</td>\n",
       "      <td>1982.000000</td>\n",
       "      <td>3.5</td>\n",
       "      <td>1982.000000</td>\n",
       "      <td>2012</td>\n",
       "      <td>30.000000</td>\n",
       "      <td>30.000000</td>\n",
       "    </tr>\n",
       "    <tr>\n",
       "      <th>2</th>\n",
       "      <td>2.66667</td>\n",
       "      <td>1962.666667</td>\n",
       "      <td>2</td>\n",
       "      <td>1968.000000</td>\n",
       "      <td>2014</td>\n",
       "      <td>51.333333</td>\n",
       "      <td>46.000000</td>\n",
       "    </tr>\n",
       "    <tr>\n",
       "      <th>3</th>\n",
       "      <td>2</td>\n",
       "      <td>1965.000000</td>\n",
       "      <td>3</td>\n",
       "      <td>1973.000000</td>\n",
       "      <td>2013</td>\n",
       "      <td>48.000000</td>\n",
       "      <td>40.000000</td>\n",
       "    </tr>\n",
       "    <tr>\n",
       "      <th>4</th>\n",
       "      <td>2.5</td>\n",
       "      <td>1972.500000</td>\n",
       "      <td>2.61128</td>\n",
       "      <td>1976.650717</td>\n",
       "      <td>2014</td>\n",
       "      <td>41.500000</td>\n",
       "      <td>37.349283</td>\n",
       "    </tr>\n",
       "  </tbody>\n",
       "</table>\n",
       "</div>"
      ],
      "text/plain": [
       "  actor_ordering    actor_age actress_ordering  actress_age  year  \\\n",
       "0        2.33333  1962.666667                3  1986.000000  2016   \n",
       "1            1.5  1982.000000              3.5  1982.000000  2012   \n",
       "2        2.66667  1962.666667                2  1968.000000  2014   \n",
       "3              2  1965.000000                3  1973.000000  2013   \n",
       "4            2.5  1972.500000          2.61128  1976.650717  2014   \n",
       "\n",
       "   actor_age_of_role  actress_age_of_role  \n",
       "0          53.333333            30.000000  \n",
       "1          30.000000            30.000000  \n",
       "2          51.333333            46.000000  \n",
       "3          48.000000            40.000000  \n",
       "4          41.500000            37.349283  "
      ]
     },
     "execution_count": 65,
     "metadata": {},
     "output_type": "execute_result"
    }
   ],
   "source": [
    "df_lead_age['actor_age_of_role'] = df_lead_age.year - df_lead_age.actor_age\n",
    "df_lead_age['actress_age_of_role'] = df_lead_age.year - df_lead_age.actress_age\n",
    "df_lead_age.head()"
   ]
  },
  {
   "cell_type": "code",
   "execution_count": 66,
   "metadata": {},
   "outputs": [
    {
     "name": "stderr",
     "output_type": "stream",
     "text": [
      "/home/allan/anaconda3/lib/python3.7/site-packages/ipykernel_launcher.py:1: SettingWithCopyWarning: \n",
      "A value is trying to be set on a copy of a slice from a DataFrame.\n",
      "Try using .loc[row_indexer,col_indexer] = value instead\n",
      "\n",
      "See the caveats in the documentation: http://pandas.pydata.org/pandas-docs/stable/indexing.html#indexing-view-versus-copy\n",
      "  \"\"\"Entry point for launching an IPython kernel.\n",
      "/home/allan/anaconda3/lib/python3.7/site-packages/ipykernel_launcher.py:2: SettingWithCopyWarning: \n",
      "A value is trying to be set on a copy of a slice from a DataFrame.\n",
      "Try using .loc[row_indexer,col_indexer] = value instead\n",
      "\n",
      "See the caveats in the documentation: http://pandas.pydata.org/pandas-docs/stable/indexing.html#indexing-view-versus-copy\n",
      "  \n",
      "/home/allan/anaconda3/lib/python3.7/site-packages/ipykernel_launcher.py:3: SettingWithCopyWarning: \n",
      "A value is trying to be set on a copy of a slice from a DataFrame.\n",
      "Try using .loc[row_indexer,col_indexer] = value instead\n",
      "\n",
      "See the caveats in the documentation: http://pandas.pydata.org/pandas-docs/stable/indexing.html#indexing-view-versus-copy\n",
      "  This is separate from the ipykernel package so we can avoid doing imports until\n"
     ]
    },
    {
     "data": {
      "text/html": [
       "<div>\n",
       "<style scoped>\n",
       "    .dataframe tbody tr th:only-of-type {\n",
       "        vertical-align: middle;\n",
       "    }\n",
       "\n",
       "    .dataframe tbody tr th {\n",
       "        vertical-align: top;\n",
       "    }\n",
       "\n",
       "    .dataframe thead th {\n",
       "        text-align: right;\n",
       "    }\n",
       "</style>\n",
       "<table border=\"1\" class=\"dataframe\">\n",
       "  <thead>\n",
       "    <tr style=\"text-align: right;\">\n",
       "      <th></th>\n",
       "      <th>actor_ordering</th>\n",
       "      <th>actor_age</th>\n",
       "      <th>actress_ordering</th>\n",
       "      <th>actress_age</th>\n",
       "      <th>year</th>\n",
       "      <th>actor_age_of_role</th>\n",
       "      <th>actress_age_of_role</th>\n",
       "      <th>lead_gender</th>\n",
       "    </tr>\n",
       "  </thead>\n",
       "  <tbody>\n",
       "    <tr>\n",
       "      <th>0</th>\n",
       "      <td>2.33333</td>\n",
       "      <td>1962.666667</td>\n",
       "      <td>3</td>\n",
       "      <td>1986.000000</td>\n",
       "      <td>2016</td>\n",
       "      <td>53.333333</td>\n",
       "      <td>30.000000</td>\n",
       "      <td>male</td>\n",
       "    </tr>\n",
       "    <tr>\n",
       "      <th>1</th>\n",
       "      <td>1.5</td>\n",
       "      <td>1982.000000</td>\n",
       "      <td>3.5</td>\n",
       "      <td>1982.000000</td>\n",
       "      <td>2012</td>\n",
       "      <td>30.000000</td>\n",
       "      <td>30.000000</td>\n",
       "      <td>male</td>\n",
       "    </tr>\n",
       "    <tr>\n",
       "      <th>2</th>\n",
       "      <td>2.66667</td>\n",
       "      <td>1962.666667</td>\n",
       "      <td>2</td>\n",
       "      <td>1968.000000</td>\n",
       "      <td>2014</td>\n",
       "      <td>51.333333</td>\n",
       "      <td>46.000000</td>\n",
       "      <td>female</td>\n",
       "    </tr>\n",
       "    <tr>\n",
       "      <th>3</th>\n",
       "      <td>2</td>\n",
       "      <td>1965.000000</td>\n",
       "      <td>3</td>\n",
       "      <td>1973.000000</td>\n",
       "      <td>2013</td>\n",
       "      <td>48.000000</td>\n",
       "      <td>40.000000</td>\n",
       "      <td>male</td>\n",
       "    </tr>\n",
       "    <tr>\n",
       "      <th>4</th>\n",
       "      <td>2.5</td>\n",
       "      <td>1972.500000</td>\n",
       "      <td>2.61128</td>\n",
       "      <td>1976.650717</td>\n",
       "      <td>2014</td>\n",
       "      <td>41.500000</td>\n",
       "      <td>37.349283</td>\n",
       "      <td>male</td>\n",
       "    </tr>\n",
       "  </tbody>\n",
       "</table>\n",
       "</div>"
      ],
      "text/plain": [
       "  actor_ordering    actor_age actress_ordering  actress_age  year  \\\n",
       "0        2.33333  1962.666667                3  1986.000000  2016   \n",
       "1            1.5  1982.000000              3.5  1982.000000  2012   \n",
       "2        2.66667  1962.666667                2  1968.000000  2014   \n",
       "3              2  1965.000000                3  1973.000000  2013   \n",
       "4            2.5  1972.500000          2.61128  1976.650717  2014   \n",
       "\n",
       "   actor_age_of_role  actress_age_of_role lead_gender  \n",
       "0          53.333333            30.000000        male  \n",
       "1          30.000000            30.000000        male  \n",
       "2          51.333333            46.000000      female  \n",
       "3          48.000000            40.000000        male  \n",
       "4          41.500000            37.349283        male  "
      ]
     },
     "execution_count": 66,
     "metadata": {},
     "output_type": "execute_result"
    }
   ],
   "source": [
    "df_lead_age['lead_gender'] = 0\n",
    "df_lead_age['lead_gender'] = np.where(df_lead_age.actress_ordering<df_lead_age.actor_ordering, 'female', df_lead_age.lead_gender)\n",
    "df_lead_age['lead_gender'] = np.where(df_lead_age.actress_ordering>df_lead_age.actor_ordering, 'male', df_lead_age.lead_gender)\n",
    "df_lead_age.head()\n"
   ]
  },
  {
   "cell_type": "code",
   "execution_count": 69,
   "metadata": {},
   "outputs": [
    {
     "data": {
      "text/plain": [
       "<matplotlib.axes._subplots.AxesSubplot at 0x7fb3e60f2b70>"
      ]
     },
     "execution_count": 69,
     "metadata": {},
     "output_type": "execute_result"
    },
    {
     "data": {
      "image/png": "[encoded data removed]",
      "text/plain": [
       "<Figure size 432x288 with 1 Axes>"
      ]
     },
     "metadata": {
      "needs_background": "light"
     },
     "output_type": "display_data"
    }
   ],
   "source": [
    "sns.boxplot(df_lead_age.lead_gender, df_lead_age.actor_age_of_role)"
   ]
  },
  {
   "cell_type": "code",
   "execution_count": null,
   "metadata": {},
   "outputs": [],
   "source": []
  }
 ],
 "metadata": {
  "kernelspec": {
   "display_name": "Python 3",
   "language": "python",
   "name": "python3"
  },
  "language_info": {
   "codemirror_mode": {
    "name": "ipython",
    "version": 3
   },
   "file_extension": ".py",
   "mimetype": "text/x-python",
   "name": "python",
   "nbconvert_exporter": "python",
   "pygments_lexer": "ipython3",
   "version": "3.7.3"
  }
 },
 "nbformat": 4,
 "nbformat_minor": 2
}
