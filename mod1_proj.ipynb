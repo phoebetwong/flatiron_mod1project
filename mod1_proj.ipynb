{
 "cells": [
  {
   "cell_type": "code",
   "execution_count": 1,
   "metadata": {
    "scrolled": true
   },
   "outputs": [],
   "source": [
    "import pandas as pd\n",
    "import numpy as np\n",
    "import matplotlib.pyplot as plt\n",
    "import seaborn as sns\n",
    "import scipy.stats as stats\n",
    "import warnings\n",
    "%matplotlib inline\n",
    "warnings.filterwarnings('ignore')"
   ]
  },
  {
   "cell_type": "code",
   "execution_count": 2,
   "metadata": {
    "scrolled": true
   },
   "outputs": [],
   "source": [
    "#importing the data set\n",
    "df = pd.read_csv('Mod1ProjData.csv')"
   ]
  },
  {
   "cell_type": "code",
   "execution_count": 3,
   "metadata": {
    "scrolled": false
   },
   "outputs": [
    {
     "data": {
      "text/html": [
       "<div>\n",
       "<style scoped>\n",
       "    .dataframe tbody tr th:only-of-type {\n",
       "        vertical-align: middle;\n",
       "    }\n",
       "\n",
       "    .dataframe tbody tr th {\n",
       "        vertical-align: top;\n",
       "    }\n",
       "\n",
       "    .dataframe thead th {\n",
       "        text-align: right;\n",
       "    }\n",
       "</style>\n",
       "<table border=\"1\" class=\"dataframe\">\n",
       "  <thead>\n",
       "    <tr style=\"text-align: right;\">\n",
       "      <th></th>\n",
       "      <th>Unnamed: 0</th>\n",
       "      <th>movie</th>\n",
       "      <th>title</th>\n",
       "      <th>id_y</th>\n",
       "      <th>release_date</th>\n",
       "      <th>production_budget</th>\n",
       "      <th>date</th>\n",
       "      <th>studio</th>\n",
       "      <th>year</th>\n",
       "      <th>domestic_gross</th>\n",
       "      <th>...</th>\n",
       "      <th>actor_ordering</th>\n",
       "      <th>actress_ordering</th>\n",
       "      <th>actress_ratio</th>\n",
       "      <th>tconst_y</th>\n",
       "      <th>averagerating</th>\n",
       "      <th>numvotes</th>\n",
       "      <th>foreign_gross</th>\n",
       "      <th>profit</th>\n",
       "      <th>profitrate</th>\n",
       "      <th>foreign_share</th>\n",
       "    </tr>\n",
       "  </thead>\n",
       "  <tbody>\n",
       "    <tr>\n",
       "      <th>0</th>\n",
       "      <td>0</td>\n",
       "      <td>Pirates of the Caribbean: On Stranger Tides</td>\n",
       "      <td>Pirates of the Caribbean: On Stranger Tides</td>\n",
       "      <td>2.0</td>\n",
       "      <td>May 20, 2011</td>\n",
       "      <td>410600000.0</td>\n",
       "      <td>2011-05-20</td>\n",
       "      <td>BV</td>\n",
       "      <td>2011.0</td>\n",
       "      <td>241063875.0</td>\n",
       "      <td>...</td>\n",
       "      <td>2.666667</td>\n",
       "      <td>2.0</td>\n",
       "      <td>0.25</td>\n",
       "      <td>tt1298650</td>\n",
       "      <td>6.6</td>\n",
       "      <td>447624.0</td>\n",
       "      <td>8.046000e+08</td>\n",
       "      <td>6.350639e+08</td>\n",
       "      <td>154.667286</td>\n",
       "      <td>76.946332</td>\n",
       "    </tr>\n",
       "    <tr>\n",
       "      <th>1</th>\n",
       "      <td>1</td>\n",
       "      <td>Avengers: Age of Ultron</td>\n",
       "      <td>Avengers: Age of Ultron</td>\n",
       "      <td>4.0</td>\n",
       "      <td>May 1, 2015</td>\n",
       "      <td>330600000.0</td>\n",
       "      <td>2015-05-01</td>\n",
       "      <td>BV</td>\n",
       "      <td>2015.0</td>\n",
       "      <td>459005868.0</td>\n",
       "      <td>...</td>\n",
       "      <td>2.500000</td>\n",
       "      <td>NaN</td>\n",
       "      <td>0.00</td>\n",
       "      <td>tt2395427</td>\n",
       "      <td>7.3</td>\n",
       "      <td>665594.0</td>\n",
       "      <td>9.440081e+08</td>\n",
       "      <td>1.072414e+09</td>\n",
       "      <td>324.384139</td>\n",
       "      <td>67.284298</td>\n",
       "    </tr>\n",
       "    <tr>\n",
       "      <th>2</th>\n",
       "      <td>2</td>\n",
       "      <td>Avengers: Infinity War</td>\n",
       "      <td>Avengers: Infinity War</td>\n",
       "      <td>7.0</td>\n",
       "      <td>Apr 27, 2018</td>\n",
       "      <td>300000000.0</td>\n",
       "      <td>2018-04-27</td>\n",
       "      <td>BV</td>\n",
       "      <td>2018.0</td>\n",
       "      <td>678815482.0</td>\n",
       "      <td>...</td>\n",
       "      <td>2.500000</td>\n",
       "      <td>NaN</td>\n",
       "      <td>0.00</td>\n",
       "      <td>tt4154756</td>\n",
       "      <td>8.5</td>\n",
       "      <td>670926.0</td>\n",
       "      <td>1.369319e+09</td>\n",
       "      <td>1.748134e+09</td>\n",
       "      <td>582.711400</td>\n",
       "      <td>66.856885</td>\n",
       "    </tr>\n",
       "    <tr>\n",
       "      <th>3</th>\n",
       "      <td>3</td>\n",
       "      <td>Justice League</td>\n",
       "      <td>Justice League</td>\n",
       "      <td>9.0</td>\n",
       "      <td>Nov 17, 2017</td>\n",
       "      <td>300000000.0</td>\n",
       "      <td>2017-11-17</td>\n",
       "      <td>WB</td>\n",
       "      <td>2017.0</td>\n",
       "      <td>229024295.0</td>\n",
       "      <td>...</td>\n",
       "      <td>2.666667</td>\n",
       "      <td>2.0</td>\n",
       "      <td>0.25</td>\n",
       "      <td>tt0974015</td>\n",
       "      <td>6.5</td>\n",
       "      <td>329135.0</td>\n",
       "      <td>4.269209e+08</td>\n",
       "      <td>3.559452e+08</td>\n",
       "      <td>118.648403</td>\n",
       "      <td>65.084844</td>\n",
       "    </tr>\n",
       "    <tr>\n",
       "      <th>4</th>\n",
       "      <td>4</td>\n",
       "      <td>Spectre</td>\n",
       "      <td>Spectre</td>\n",
       "      <td>10.0</td>\n",
       "      <td>Nov 6, 2015</td>\n",
       "      <td>300000000.0</td>\n",
       "      <td>2015-11-06</td>\n",
       "      <td>Sony</td>\n",
       "      <td>2015.0</td>\n",
       "      <td>200074175.0</td>\n",
       "      <td>...</td>\n",
       "      <td>2.333333</td>\n",
       "      <td>3.0</td>\n",
       "      <td>0.25</td>\n",
       "      <td>tt2379713</td>\n",
       "      <td>6.8</td>\n",
       "      <td>352504.0</td>\n",
       "      <td>6.795467e+08</td>\n",
       "      <td>5.796209e+08</td>\n",
       "      <td>193.206974</td>\n",
       "      <td>77.254500</td>\n",
       "    </tr>\n",
       "  </tbody>\n",
       "</table>\n",
       "<p>5 rows × 87 columns</p>\n",
       "</div>"
      ],
      "text/plain": [
       "   Unnamed: 0                                        movie  \\\n",
       "0           0  Pirates of the Caribbean: On Stranger Tides   \n",
       "1           1                      Avengers: Age of Ultron   \n",
       "2           2                       Avengers: Infinity War   \n",
       "3           3                               Justice League   \n",
       "4           4                                      Spectre   \n",
       "\n",
       "                                         title  id_y  release_date  \\\n",
       "0  Pirates of the Caribbean: On Stranger Tides   2.0  May 20, 2011   \n",
       "1                      Avengers: Age of Ultron   4.0   May 1, 2015   \n",
       "2                       Avengers: Infinity War   7.0  Apr 27, 2018   \n",
       "3                               Justice League   9.0  Nov 17, 2017   \n",
       "4                                      Spectre  10.0   Nov 6, 2015   \n",
       "\n",
       "   production_budget        date studio    year  domestic_gross  ...  \\\n",
       "0        410600000.0  2011-05-20     BV  2011.0     241063875.0  ...   \n",
       "1        330600000.0  2015-05-01     BV  2015.0     459005868.0  ...   \n",
       "2        300000000.0  2018-04-27     BV  2018.0     678815482.0  ...   \n",
       "3        300000000.0  2017-11-17     WB  2017.0     229024295.0  ...   \n",
       "4        300000000.0  2015-11-06   Sony  2015.0     200074175.0  ...   \n",
       "\n",
       "   actor_ordering actress_ordering  actress_ratio   tconst_y  averagerating  \\\n",
       "0        2.666667              2.0           0.25  tt1298650            6.6   \n",
       "1        2.500000              NaN           0.00  tt2395427            7.3   \n",
       "2        2.500000              NaN           0.00  tt4154756            8.5   \n",
       "3        2.666667              2.0           0.25  tt0974015            6.5   \n",
       "4        2.333333              3.0           0.25  tt2379713            6.8   \n",
       "\n",
       "   numvotes  foreign_gross        profit  profitrate  foreign_share  \n",
       "0  447624.0   8.046000e+08  6.350639e+08  154.667286      76.946332  \n",
       "1  665594.0   9.440081e+08  1.072414e+09  324.384139      67.284298  \n",
       "2  670926.0   1.369319e+09  1.748134e+09  582.711400      66.856885  \n",
       "3  329135.0   4.269209e+08  3.559452e+08  118.648403      65.084844  \n",
       "4  352504.0   6.795467e+08  5.796209e+08  193.206974      77.254500  \n",
       "\n",
       "[5 rows x 87 columns]"
      ]
     },
     "execution_count": 3,
     "metadata": {},
     "output_type": "execute_result"
    }
   ],
   "source": [
    "#preview of the data set\n",
    "df.head()"
   ]
  },
  {
   "cell_type": "code",
   "execution_count": 4,
   "metadata": {
    "scrolled": false
   },
   "outputs": [
    {
     "data": {
      "image/png": "[encoded data removed]",
      "text/plain": [
       "<Figure size 432x576 with 1 Axes>"
      ]
     },
     "metadata": {
      "needs_background": "light"
     },
     "output_type": "display_data"
    }
   ],
   "source": [
    "#Plotting to check the numvotes distribution\n",
    "votes = df[(df.numvotes.notnull() == True)& (df.numvotes > 0)]\n",
    "\n",
    "figure = plt.figure(figsize=(6, 8))\n",
    "binwidth =0.1\n",
    "axes = figure.add_subplot(1, 1, 1)\n",
    "axes.hist(votes.numvotes, bins=1000, color=\"darkslategray\", density = True)\n",
    "axes.set_title(\"Distribution of No. of Votes\")\n",
    "axes.set_xlabel(\"Votes\")\n",
    "\n",
    "plt.show()\n",
    "plt.close()"
   ]
  },
  {
   "cell_type": "markdown",
   "metadata": {},
   "source": [
    "### Note:"
   ]
  },
  {
   "cell_type": "markdown",
   "metadata": {},
   "source": [
    "From the chart above, it would be challenging to identify the proper distribution and values of the population that voted. Hence, transforming the feature to show a normal distribution might be feasible to identify the quantity in which a minimum threshold will be set to deem the movie \"viewable\"."
   ]
  },
  {
   "cell_type": "code",
   "execution_count": 5,
   "metadata": {
    "scrolled": true
   },
   "outputs": [
    {
     "data": {
      "text/plain": [
       "count    3574.000000\n",
       "mean        8.869996\n",
       "std         2.694771\n",
       "min         1.609438\n",
       "25%         7.312382\n",
       "50%         9.248165\n",
       "75%        10.920704\n",
       "max        14.425855\n",
       "Name: log_votes, dtype: float64"
      ]
     },
     "execution_count": 5,
     "metadata": {},
     "output_type": "execute_result"
    }
   ],
   "source": [
    "#transforming numvotes\n",
    "votes = votes.loc[votes['numvotes'] > 0]\n",
    "votes['log_votes'] = votes['numvotes'].apply(np.log)\n",
    "votes['log_votes'].describe()"
   ]
  },
  {
   "cell_type": "code",
   "execution_count": 6,
   "metadata": {
    "scrolled": false
   },
   "outputs": [
    {
     "data": {
      "image/png": "[encoded data removed]",
      "text/plain": [
       "<Figure size 720x576 with 1 Axes>"
      ]
     },
     "metadata": {
      "needs_background": "light"
     },
     "output_type": "display_data"
    }
   ],
   "source": [
    "#checking the numvotes distribution\n",
    "figure = plt.figure(figsize=(10, 8))\n",
    "axes = figure.add_subplot(1, 1, 1)\n",
    "axes.hist(votes.log_votes, bins=50, color=\"darkslategray\", density = True)\n",
    "axes.set_title(\"Distribution of No. of Votes\")\n",
    "axes.set_xlabel(\"Votes\")\n",
    "\n",
    "plt.show()\n",
    "plt.close()"
   ]
  },
  {
   "cell_type": "markdown",
   "metadata": {},
   "source": [
    "### Note:"
   ]
  },
  {
   "cell_type": "markdown",
   "metadata": {},
   "source": [
    "The new chart now shows a similar to a normal distribution. Hence, we can easily see if there are a lot of outliers. From this transformation, will extract the 95% CI for the transformed number of votes (via numpy.log) and get the inverse to identify the threshold of number of votes."
   ]
  },
  {
   "cell_type": "code",
   "execution_count": 7,
   "metadata": {
    "scrolled": true
   },
   "outputs": [
    {
     "data": {
      "text/plain": [
       "array([ 3.25809654, 12.53372818])"
      ]
     },
     "execution_count": 7,
     "metadata": {},
     "output_type": "execute_result"
    }
   ],
   "source": [
    "#minimum number of votes to consider movie\n",
    "stats.mstats.mquantiles( votes.log_votes, [0.05, 0.95])"
   ]
  },
  {
   "cell_type": "code",
   "execution_count": 8,
   "metadata": {},
   "outputs": [
    {
     "data": {
      "text/plain": [
       "26.000000051441464"
      ]
     },
     "execution_count": 8,
     "metadata": {},
     "output_type": "execute_result"
    }
   ],
   "source": [
    "#Converting the 2.5% percentile of the sample\n",
    "np.exp(3.25809654)"
   ]
  },
  {
   "cell_type": "markdown",
   "metadata": {},
   "source": [
    "### Note:\n",
    "From the results above, a viable movie to be considered viewable for audience should have at least 26 views."
   ]
  },
  {
   "cell_type": "markdown",
   "metadata": {},
   "source": [
    "# Gender Lead vs Genre\n",
    "The intent of the following exploration is to determine at which genre and gender is most profitable from all the movie data gathered."
   ]
  },
  {
   "cell_type": "code",
   "execution_count": 9,
   "metadata": {
    "scrolled": true
   },
   "outputs": [],
   "source": [
    "#creating series to identify the gender of the lead for the movie\n",
    "df['gender_lead'] = 0\n",
    "\n",
    "#fill actor & actress order value\n",
    "df.actor_ordering = np.where(df.actor_ordering ==np.nan, df.actor_ordering.mean, df.actor_ordering)\n",
    "df.actress_ordering = np.where(df.actress_ordering ==np.nan, df.actress_ordering.mean, df.actress_ordering)"
   ]
  },
  {
   "cell_type": "markdown",
   "metadata": {},
   "source": [
    "From above, we now have a non-null values for the features that would be used to determine the genre and gender of the profitable movie."
   ]
  },
  {
   "cell_type": "markdown",
   "metadata": {},
   "source": [
    "Next step is to assign values if the lead for the entry/movie is a male of female which is dictated by the ordering, the lower the ordering is, the higher significany/heirarchy of the gender."
   ]
  },
  {
   "cell_type": "code",
   "execution_count": 10,
   "metadata": {
    "scrolled": true
   },
   "outputs": [],
   "source": [
    "#creating a series for gender of lead actor/actress\n",
    "df.gender_lead = np.where(df.actor_ordering < df.actress_ordering,'male', 'female')\n",
    "\n",
    "#filling in missing world gross\n",
    "df.worldwide_gross = np.where(df.worldwide_gross ==np.nan, df.worldwide_gross.mean(), df.worldwide_gross)"
   ]
  },
  {
   "cell_type": "code",
   "execution_count": 11,
   "metadata": {},
   "outputs": [],
   "source": [
    "#list of genres\n",
    "genres = ['Mystery', 'Drama',\n",
    "       'Animation', 'Game-Show', 'News', 'Biography', 'Short', 'Action',\n",
    "       'Family', 'Sport', 'Crime', 'War', 'Horror', 'Music', 'Reality-TV',\n",
    "       'Fantasy', 'Documentary', 'Comedy', 'Western', 'Thriller', 'Talk-Show',\n",
    "       'Musical', 'Romance', 'Sci-Fi', 'Adult', 'Adventure', 'History']"
   ]
  },
  {
   "cell_type": "markdown",
   "metadata": {},
   "source": [
    "To segregate the different geographical gross of the movie per genre, dummy variables are needed to identify the specific gross/performance of the movie."
   ]
  },
  {
   "cell_type": "code",
   "execution_count": 12,
   "metadata": {
    "scrolled": true
   },
   "outputs": [],
   "source": [
    "#Creating dummy series\n",
    "for genre in genres:\n",
    "    df[(genre +'_f_gross')] = None\n",
    "    df[(genre +'_d_gross')] = None\n",
    "    df[(genre +'_w_gross')] = None"
   ]
  },
  {
   "cell_type": "code",
   "execution_count": 13,
   "metadata": {
    "scrolled": true
   },
   "outputs": [],
   "source": [
    "#putting values for the dummy series\n",
    "for genre in genres:\n",
    "    df[(genre +'_f_gross')] = np.where(df[genre] == True, df.foreign_gross, 0)\n",
    "    df[(genre +'_d_gross')] = np.where(df[genre] == True, df.domestic_gross, 0)\n",
    "    df[(genre +'_w_gross')] = np.where(df[genre] == True, df.worldwide_gross, 0)"
   ]
  },
  {
   "cell_type": "code",
   "execution_count": 14,
   "metadata": {},
   "outputs": [],
   "source": [
    "#list of all the series created per genre and geography\n",
    "gross_types = ['Mystery_f_gross', 'Mystery_d_gross', 'Mystery_w_gross', 'Drama_f_gross', 'Drama_d_gross',\n",
    " 'Drama_w_gross', 'Animation_f_gross', 'Animation_d_gross', 'Animation_w_gross', 'Game-Show_f_gross',\n",
    " 'Game-Show_d_gross', 'Game-Show_w_gross', 'News_f_gross', 'News_d_gross', 'News_w_gross', 'Biography_f_gross',\n",
    " 'Biography_d_gross', 'Biography_w_gross', 'Short_f_gross', 'Short_d_gross', 'Short_w_gross', 'Action_f_gross',\n",
    " 'Action_d_gross', 'Action_w_gross', 'Family_f_gross', 'Family_d_gross', 'Family_w_gross', 'Sport_f_gross', 'Sport_d_gross',\n",
    " 'Sport_w_gross', 'Crime_f_gross', 'Crime_d_gross', 'Crime_w_gross', 'War_f_gross', 'War_d_gross', 'War_w_gross',\n",
    " 'Horror_f_gross', 'Horror_d_gross', 'Horror_w_gross', 'Music_f_gross', 'Music_d_gross', 'Music_w_gross', 'Reality-TV_f_gross',\n",
    " 'Reality-TV_d_gross', 'Reality-TV_w_gross', 'Fantasy_f_gross', 'Fantasy_d_gross', 'Fantasy_w_gross', 'Documentary_f_gross',\n",
    " 'Documentary_d_gross', 'Documentary_w_gross', 'Comedy_f_gross', 'Comedy_d_gross', 'Comedy_w_gross', 'Western_f_gross',\n",
    " 'Western_d_gross', 'Western_w_gross', 'Thriller_f_gross', 'Thriller_d_gross', 'Thriller_w_gross', 'Talk-Show_f_gross', 'Talk-Show_d_gross',\n",
    " 'Talk-Show_w_gross', 'Musical_f_gross', 'Musical_d_gross', 'Musical_w_gross', 'Romance_f_gross', 'Romance_d_gross',\n",
    " 'Romance_w_gross', 'Sci-Fi_f_gross', 'Sci-Fi_d_gross', 'Sci-Fi_w_gross', 'Adult_f_gross', 'Adult_d_gross',\n",
    " 'Adult_w_gross', 'Adventure_f_gross', 'Adventure_d_gross', 'Adventure_w_gross', 'History_f_gross', 'History_d_gross',\n",
    " 'History_w_gross']"
   ]
  },
  {
   "cell_type": "markdown",
   "metadata": {},
   "source": [
    "To identify the gender for the lead roles in each genre,it would require to create dataframes, one for male and one for female leads."
   ]
  },
  {
   "cell_type": "code",
   "execution_count": 15,
   "metadata": {
    "scrolled": true
   },
   "outputs": [],
   "source": [
    "#Dataframe for female lead\n",
    "female_gross = df[(df.gender_lead == 'female')&(df.numvotes > 26)][['Mystery_w_gross',\n",
    " 'Drama_w_gross',\n",
    " 'Animation_w_gross',\n",
    " 'Game-Show_w_gross',\n",
    " 'News_w_gross',\n",
    " 'Biography_w_gross',\n",
    " 'Short_w_gross',\n",
    " 'Action_w_gross',\n",
    " 'Family_w_gross',\n",
    " 'Sport_w_gross',\n",
    " 'Crime_w_gross',\n",
    " 'War_w_gross',\n",
    " 'Horror_w_gross',\n",
    " 'Music_w_gross',\n",
    " 'Reality-TV_w_gross',\n",
    " 'Fantasy_w_gross',\n",
    " 'Documentary_w_gross',\n",
    " 'Comedy_w_gross',\n",
    " 'Western_w_gross',\n",
    " 'Thriller_w_gross',\n",
    " 'Talk-Show_w_gross',\n",
    " 'Musical_w_gross',\n",
    " 'Romance_w_gross',\n",
    " 'Sci-Fi_w_gross',\n",
    " 'Adult_w_gross',\n",
    " 'Adventure_w_gross',\n",
    " 'History_w_gross']]"
   ]
  },
  {
   "cell_type": "code",
   "execution_count": 16,
   "metadata": {
    "scrolled": true
   },
   "outputs": [],
   "source": [
    "#Dataframe for male lead\n",
    "male_gross = df[(df.gender_lead == 'male')&(df.numvotes > 26)][['Mystery_w_gross',\n",
    " 'Drama_w_gross',\n",
    " 'Animation_w_gross',\n",
    " 'Game-Show_w_gross',\n",
    " 'News_w_gross',\n",
    " 'Biography_w_gross',\n",
    " 'Short_w_gross',\n",
    " 'Action_w_gross',\n",
    " 'Family_w_gross',\n",
    " 'Sport_w_gross',\n",
    " 'Crime_w_gross',\n",
    " 'War_w_gross',\n",
    " 'Horror_w_gross',\n",
    " 'Music_w_gross',\n",
    " 'Reality-TV_w_gross',\n",
    " 'Fantasy_w_gross',\n",
    " 'Documentary_w_gross',\n",
    " 'Comedy_w_gross',\n",
    " 'Western_w_gross',\n",
    " 'Thriller_w_gross',\n",
    " 'Talk-Show_w_gross',\n",
    " 'Musical_w_gross',\n",
    " 'Romance_w_gross',\n",
    " 'Sci-Fi_w_gross',\n",
    " 'Adult_w_gross',\n",
    " 'Adventure_w_gross',\n",
    " 'History_w_gross']]"
   ]
  },
  {
   "cell_type": "markdown",
   "metadata": {},
   "source": [
    "From the created dataframes, it will then be populated by its respective statistical mean for the intent of using any rows of the data_frames for the new data frame with a single dimension with the average value of gross per genre."
   ]
  },
  {
   "cell_type": "code",
   "execution_count": 17,
   "metadata": {},
   "outputs": [],
   "source": [
    "#computing the mean per genre per gender\n",
    "for x in female_gross:\n",
    "    female_gross[x]= female_gross[x].mean()\n",
    "    male_gross[x]= male_gross[x].mean()"
   ]
  },
  {
   "cell_type": "markdown",
   "metadata": {},
   "source": [
    "Now, we create an empy dataframe and insert any row of the male and female gross dataframe."
   ]
  },
  {
   "cell_type": "code",
   "execution_count": 18,
   "metadata": {},
   "outputs": [],
   "source": [
    "#generating an empty dataframe\n",
    "genre_avg_gross_f=pd.DataFrame()\n",
    "genre_avg_gross_m= pd.DataFrame()"
   ]
  },
  {
   "cell_type": "code",
   "execution_count": 19,
   "metadata": {},
   "outputs": [],
   "source": [
    "genre_avg_gross_f = female_gross.iloc[0,:]\n",
    "genre_avg_gross_m = male_gross.iloc[0,:]"
   ]
  },
  {
   "cell_type": "code",
   "execution_count": 20,
   "metadata": {},
   "outputs": [
    {
     "data": {
      "text/plain": [
       "pandas.core.series.Series"
      ]
     },
     "execution_count": 20,
     "metadata": {},
     "output_type": "execute_result"
    }
   ],
   "source": [
    "type(genre_avg_gross_f)"
   ]
  },
  {
   "cell_type": "code",
   "execution_count": 21,
   "metadata": {
    "scrolled": true
   },
   "outputs": [],
   "source": [
    "#Renaming Indices to use as X-labels\n",
    "genre_avg_gross_f.index = genre_avg_gross_f.index.str.replace('_w_gross', '')\n",
    "genre_avg_gross_m.index = genre_avg_gross_m.index.str.replace('_w_gross', '')"
   ]
  },
  {
   "cell_type": "code",
   "execution_count": 22,
   "metadata": {},
   "outputs": [
    {
     "data": {
      "image/png": "[encoded data removed]",
      "text/plain": [
       "<Figure size 1080x720 with 1 Axes>"
      ]
     },
     "metadata": {
      "needs_background": "light"
     },
     "output_type": "display_data"
    }
   ],
   "source": [
    "figure = plt.figure(figsize=(15, 10))\n",
    "axes = figure.add_subplot(2, 1, 1)\n",
    "# set width of bar\n",
    "barWidth = 0.3\n",
    " \n",
    "# set height of bar\n",
    "bars1 = genre_avg_gross_f\n",
    "bars2 = genre_avg_gross_m\n",
    "\n",
    "bars1 = bars1.sort_values(ascending = False).head(10)\n",
    "bars2 = bars2.sort_values(ascending = False).head(10)\n",
    "\n",
    "# Set position of bar on X axis\n",
    "r1 = np.arange(len(bars1))\n",
    "r2 = [x + barWidth for x in r1]\n",
    " \n",
    "# Make the plot\n",
    "plt.bar(r1, bars1, color='#7f6d5f', width=barWidth, edgecolor='white', label='Female Lead')\n",
    "plt.bar(r2, bars2, color='#557f2d', width=barWidth, edgecolor='white', label='Male Lead')\n",
    "\n",
    " \n",
    "# Add xticks on the middle of the group bars\n",
    "plt.xlabel('Genre', fontweight='bold')\n",
    "plt.ylabel('Tens of Millions', fontweight='bold')\n",
    "plt.xticks([r + barWidth for r in range(len(bars1))], list(bars1.index))\n",
    "axes.set_xticklabels(axes.get_xticklabels(),rotation=30)\n",
    "\n",
    "\n",
    "plt.savefig('Avg Movie Gross(Gender).jpg')\n",
    "plt.title('Avg. Movie Gross per Genre')\n",
    "# Create legend & Show graphic\n",
    "plt.legend()\n",
    "plt.show()\n"
   ]
  },
  {
   "cell_type": "markdown",
   "metadata": {},
   "source": [
    "## Result:\n",
    "It is very easy to identify the movie genre that had the largest gross with respect to genre and the gender the of lead."
   ]
  },
  {
   "cell_type": "markdown",
   "metadata": {},
   "source": [
    "# Geographical Movie Gross per Genre"
   ]
  },
  {
   "cell_type": "markdown",
   "metadata": {},
   "source": [
    "From the previous result, we now would want to Identify the market that projected the gross results per genre. We want to see what type of movies or where the movies sell the most. "
   ]
  },
  {
   "cell_type": "code",
   "execution_count": 23,
   "metadata": {},
   "outputs": [],
   "source": [
    "#New data frame for genres\n",
    "genre_gross = df[gross_types]"
   ]
  },
  {
   "cell_type": "code",
   "execution_count": 24,
   "metadata": {},
   "outputs": [
    {
     "data": {
      "text/html": [
       "<div>\n",
       "<style scoped>\n",
       "    .dataframe tbody tr th:only-of-type {\n",
       "        vertical-align: middle;\n",
       "    }\n",
       "\n",
       "    .dataframe tbody tr th {\n",
       "        vertical-align: top;\n",
       "    }\n",
       "\n",
       "    .dataframe thead th {\n",
       "        text-align: right;\n",
       "    }\n",
       "</style>\n",
       "<table border=\"1\" class=\"dataframe\">\n",
       "  <thead>\n",
       "    <tr style=\"text-align: right;\">\n",
       "      <th></th>\n",
       "      <th>Mystery_f_gross</th>\n",
       "      <th>Mystery_d_gross</th>\n",
       "      <th>Mystery_w_gross</th>\n",
       "      <th>Drama_f_gross</th>\n",
       "      <th>Drama_d_gross</th>\n",
       "      <th>Drama_w_gross</th>\n",
       "      <th>Animation_f_gross</th>\n",
       "      <th>Animation_d_gross</th>\n",
       "      <th>Animation_w_gross</th>\n",
       "      <th>Game-Show_f_gross</th>\n",
       "      <th>...</th>\n",
       "      <th>Sci-Fi_w_gross</th>\n",
       "      <th>Adult_f_gross</th>\n",
       "      <th>Adult_d_gross</th>\n",
       "      <th>Adult_w_gross</th>\n",
       "      <th>Adventure_f_gross</th>\n",
       "      <th>Adventure_d_gross</th>\n",
       "      <th>Adventure_w_gross</th>\n",
       "      <th>History_f_gross</th>\n",
       "      <th>History_d_gross</th>\n",
       "      <th>History_w_gross</th>\n",
       "    </tr>\n",
       "  </thead>\n",
       "  <tbody>\n",
       "    <tr>\n",
       "      <th>count</th>\n",
       "      <td>3.783000e+03</td>\n",
       "      <td>3.857000e+03</td>\n",
       "      <td>3.783000e+03</td>\n",
       "      <td>3.047000e+03</td>\n",
       "      <td>3.845000e+03</td>\n",
       "      <td>3.047000e+03</td>\n",
       "      <td>3.818000e+03</td>\n",
       "      <td>3.858000e+03</td>\n",
       "      <td>3.818000e+03</td>\n",
       "      <td>3859.0</td>\n",
       "      <td>...</td>\n",
       "      <td>3.829000e+03</td>\n",
       "      <td>3859.0</td>\n",
       "      <td>3859.0</td>\n",
       "      <td>3859.0</td>\n",
       "      <td>3.778000e+03</td>\n",
       "      <td>3.857000e+03</td>\n",
       "      <td>3.778000e+03</td>\n",
       "      <td>3.792000e+03</td>\n",
       "      <td>3.858000e+03</td>\n",
       "      <td>3.792000e+03</td>\n",
       "    </tr>\n",
       "    <tr>\n",
       "      <th>mean</th>\n",
       "      <td>2.483691e+06</td>\n",
       "      <td>1.640245e+06</td>\n",
       "      <td>4.136717e+06</td>\n",
       "      <td>1.789907e+07</td>\n",
       "      <td>9.887551e+06</td>\n",
       "      <td>3.013791e+07</td>\n",
       "      <td>7.349618e+06</td>\n",
       "      <td>4.070494e+06</td>\n",
       "      <td>1.145352e+07</td>\n",
       "      <td>0.0</td>\n",
       "      <td>...</td>\n",
       "      <td>1.170864e+07</td>\n",
       "      <td>0.0</td>\n",
       "      <td>0.0</td>\n",
       "      <td>0.0</td>\n",
       "      <td>2.432933e+07</td>\n",
       "      <td>1.259821e+07</td>\n",
       "      <td>3.715737e+07</td>\n",
       "      <td>1.022119e+06</td>\n",
       "      <td>7.940647e+05</td>\n",
       "      <td>1.798839e+06</td>\n",
       "    </tr>\n",
       "    <tr>\n",
       "      <th>std</th>\n",
       "      <td>2.181876e+07</td>\n",
       "      <td>1.235470e+07</td>\n",
       "      <td>3.304153e+07</td>\n",
       "      <td>6.204277e+07</td>\n",
       "      <td>3.338828e+07</td>\n",
       "      <td>9.423570e+07</td>\n",
       "      <td>5.366295e+07</td>\n",
       "      <td>3.027725e+07</td>\n",
       "      <td>8.253010e+07</td>\n",
       "      <td>0.0</td>\n",
       "      <td>...</td>\n",
       "      <td>9.630021e+07</td>\n",
       "      <td>0.0</td>\n",
       "      <td>0.0</td>\n",
       "      <td>0.0</td>\n",
       "      <td>1.026920e+08</td>\n",
       "      <td>5.693802e+07</td>\n",
       "      <td>1.570498e+08</td>\n",
       "      <td>1.280423e+07</td>\n",
       "      <td>1.002661e+07</td>\n",
       "      <td>2.207589e+07</td>\n",
       "    </tr>\n",
       "    <tr>\n",
       "      <th>min</th>\n",
       "      <td>0.000000e+00</td>\n",
       "      <td>0.000000e+00</td>\n",
       "      <td>0.000000e+00</td>\n",
       "      <td>0.000000e+00</td>\n",
       "      <td>0.000000e+00</td>\n",
       "      <td>0.000000e+00</td>\n",
       "      <td>0.000000e+00</td>\n",
       "      <td>0.000000e+00</td>\n",
       "      <td>0.000000e+00</td>\n",
       "      <td>0.0</td>\n",
       "      <td>...</td>\n",
       "      <td>0.000000e+00</td>\n",
       "      <td>0.0</td>\n",
       "      <td>0.0</td>\n",
       "      <td>0.0</td>\n",
       "      <td>0.000000e+00</td>\n",
       "      <td>0.000000e+00</td>\n",
       "      <td>0.000000e+00</td>\n",
       "      <td>0.000000e+00</td>\n",
       "      <td>0.000000e+00</td>\n",
       "      <td>0.000000e+00</td>\n",
       "    </tr>\n",
       "    <tr>\n",
       "      <th>25%</th>\n",
       "      <td>0.000000e+00</td>\n",
       "      <td>0.000000e+00</td>\n",
       "      <td>0.000000e+00</td>\n",
       "      <td>0.000000e+00</td>\n",
       "      <td>0.000000e+00</td>\n",
       "      <td>0.000000e+00</td>\n",
       "      <td>0.000000e+00</td>\n",
       "      <td>0.000000e+00</td>\n",
       "      <td>0.000000e+00</td>\n",
       "      <td>0.0</td>\n",
       "      <td>...</td>\n",
       "      <td>0.000000e+00</td>\n",
       "      <td>0.0</td>\n",
       "      <td>0.0</td>\n",
       "      <td>0.0</td>\n",
       "      <td>0.000000e+00</td>\n",
       "      <td>0.000000e+00</td>\n",
       "      <td>0.000000e+00</td>\n",
       "      <td>0.000000e+00</td>\n",
       "      <td>0.000000e+00</td>\n",
       "      <td>0.000000e+00</td>\n",
       "    </tr>\n",
       "    <tr>\n",
       "      <th>50%</th>\n",
       "      <td>0.000000e+00</td>\n",
       "      <td>0.000000e+00</td>\n",
       "      <td>0.000000e+00</td>\n",
       "      <td>0.000000e+00</td>\n",
       "      <td>1.810000e+04</td>\n",
       "      <td>0.000000e+00</td>\n",
       "      <td>0.000000e+00</td>\n",
       "      <td>0.000000e+00</td>\n",
       "      <td>0.000000e+00</td>\n",
       "      <td>0.0</td>\n",
       "      <td>...</td>\n",
       "      <td>0.000000e+00</td>\n",
       "      <td>0.0</td>\n",
       "      <td>0.0</td>\n",
       "      <td>0.0</td>\n",
       "      <td>0.000000e+00</td>\n",
       "      <td>0.000000e+00</td>\n",
       "      <td>0.000000e+00</td>\n",
       "      <td>0.000000e+00</td>\n",
       "      <td>0.000000e+00</td>\n",
       "      <td>0.000000e+00</td>\n",
       "    </tr>\n",
       "    <tr>\n",
       "      <th>75%</th>\n",
       "      <td>0.000000e+00</td>\n",
       "      <td>0.000000e+00</td>\n",
       "      <td>0.000000e+00</td>\n",
       "      <td>7.197686e+06</td>\n",
       "      <td>1.755212e+06</td>\n",
       "      <td>1.572207e+07</td>\n",
       "      <td>0.000000e+00</td>\n",
       "      <td>0.000000e+00</td>\n",
       "      <td>0.000000e+00</td>\n",
       "      <td>0.0</td>\n",
       "      <td>...</td>\n",
       "      <td>0.000000e+00</td>\n",
       "      <td>0.0</td>\n",
       "      <td>0.0</td>\n",
       "      <td>0.0</td>\n",
       "      <td>0.000000e+00</td>\n",
       "      <td>0.000000e+00</td>\n",
       "      <td>0.000000e+00</td>\n",
       "      <td>0.000000e+00</td>\n",
       "      <td>0.000000e+00</td>\n",
       "      <td>0.000000e+00</td>\n",
       "    </tr>\n",
       "    <tr>\n",
       "      <th>max</th>\n",
       "      <td>6.643000e+08</td>\n",
       "      <td>2.961316e+08</td>\n",
       "      <td>9.604316e+08</td>\n",
       "      <td>9.605000e+08</td>\n",
       "      <td>7.000596e+08</td>\n",
       "      <td>1.348258e+09</td>\n",
       "      <td>8.717319e+08</td>\n",
       "      <td>6.085817e+08</td>\n",
       "      <td>1.272470e+09</td>\n",
       "      <td>0.0</td>\n",
       "      <td>...</td>\n",
       "      <td>2.048134e+09</td>\n",
       "      <td>0.0</td>\n",
       "      <td>0.0</td>\n",
       "      <td>0.0</td>\n",
       "      <td>1.369319e+09</td>\n",
       "      <td>9.366622e+08</td>\n",
       "      <td>2.053311e+09</td>\n",
       "      <td>4.977743e+08</td>\n",
       "      <td>3.564617e+08</td>\n",
       "      <td>8.542360e+08</td>\n",
       "    </tr>\n",
       "  </tbody>\n",
       "</table>\n",
       "<p>8 rows × 81 columns</p>\n",
       "</div>"
      ],
      "text/plain": [
       "       Mystery_f_gross  Mystery_d_gross  Mystery_w_gross  Drama_f_gross  \\\n",
       "count     3.783000e+03     3.857000e+03     3.783000e+03   3.047000e+03   \n",
       "mean      2.483691e+06     1.640245e+06     4.136717e+06   1.789907e+07   \n",
       "std       2.181876e+07     1.235470e+07     3.304153e+07   6.204277e+07   \n",
       "min       0.000000e+00     0.000000e+00     0.000000e+00   0.000000e+00   \n",
       "25%       0.000000e+00     0.000000e+00     0.000000e+00   0.000000e+00   \n",
       "50%       0.000000e+00     0.000000e+00     0.000000e+00   0.000000e+00   \n",
       "75%       0.000000e+00     0.000000e+00     0.000000e+00   7.197686e+06   \n",
       "max       6.643000e+08     2.961316e+08     9.604316e+08   9.605000e+08   \n",
       "\n",
       "       Drama_d_gross  Drama_w_gross  Animation_f_gross  Animation_d_gross  \\\n",
       "count   3.845000e+03   3.047000e+03       3.818000e+03       3.858000e+03   \n",
       "mean    9.887551e+06   3.013791e+07       7.349618e+06       4.070494e+06   \n",
       "std     3.338828e+07   9.423570e+07       5.366295e+07       3.027725e+07   \n",
       "min     0.000000e+00   0.000000e+00       0.000000e+00       0.000000e+00   \n",
       "25%     0.000000e+00   0.000000e+00       0.000000e+00       0.000000e+00   \n",
       "50%     1.810000e+04   0.000000e+00       0.000000e+00       0.000000e+00   \n",
       "75%     1.755212e+06   1.572207e+07       0.000000e+00       0.000000e+00   \n",
       "max     7.000596e+08   1.348258e+09       8.717319e+08       6.085817e+08   \n",
       "\n",
       "       Animation_w_gross  Game-Show_f_gross  ...  Sci-Fi_w_gross  \\\n",
       "count       3.818000e+03             3859.0  ...    3.829000e+03   \n",
       "mean        1.145352e+07                0.0  ...    1.170864e+07   \n",
       "std         8.253010e+07                0.0  ...    9.630021e+07   \n",
       "min         0.000000e+00                0.0  ...    0.000000e+00   \n",
       "25%         0.000000e+00                0.0  ...    0.000000e+00   \n",
       "50%         0.000000e+00                0.0  ...    0.000000e+00   \n",
       "75%         0.000000e+00                0.0  ...    0.000000e+00   \n",
       "max         1.272470e+09                0.0  ...    2.048134e+09   \n",
       "\n",
       "       Adult_f_gross  Adult_d_gross  Adult_w_gross  Adventure_f_gross  \\\n",
       "count         3859.0         3859.0         3859.0       3.778000e+03   \n",
       "mean             0.0            0.0            0.0       2.432933e+07   \n",
       "std              0.0            0.0            0.0       1.026920e+08   \n",
       "min              0.0            0.0            0.0       0.000000e+00   \n",
       "25%              0.0            0.0            0.0       0.000000e+00   \n",
       "50%              0.0            0.0            0.0       0.000000e+00   \n",
       "75%              0.0            0.0            0.0       0.000000e+00   \n",
       "max              0.0            0.0            0.0       1.369319e+09   \n",
       "\n",
       "       Adventure_d_gross  Adventure_w_gross  History_f_gross  History_d_gross  \\\n",
       "count       3.857000e+03       3.778000e+03     3.792000e+03     3.858000e+03   \n",
       "mean        1.259821e+07       3.715737e+07     1.022119e+06     7.940647e+05   \n",
       "std         5.693802e+07       1.570498e+08     1.280423e+07     1.002661e+07   \n",
       "min         0.000000e+00       0.000000e+00     0.000000e+00     0.000000e+00   \n",
       "25%         0.000000e+00       0.000000e+00     0.000000e+00     0.000000e+00   \n",
       "50%         0.000000e+00       0.000000e+00     0.000000e+00     0.000000e+00   \n",
       "75%         0.000000e+00       0.000000e+00     0.000000e+00     0.000000e+00   \n",
       "max         9.366622e+08       2.053311e+09     4.977743e+08     3.564617e+08   \n",
       "\n",
       "       History_w_gross  \n",
       "count     3.792000e+03  \n",
       "mean      1.798839e+06  \n",
       "std       2.207589e+07  \n",
       "min       0.000000e+00  \n",
       "25%       0.000000e+00  \n",
       "50%       0.000000e+00  \n",
       "75%       0.000000e+00  \n",
       "max       8.542360e+08  \n",
       "\n",
       "[8 rows x 81 columns]"
      ]
     },
     "execution_count": 24,
     "metadata": {},
     "output_type": "execute_result"
    }
   ],
   "source": [
    "genre_gross.describe()"
   ]
  },
  {
   "cell_type": "code",
   "execution_count": 25,
   "metadata": {},
   "outputs": [],
   "source": [
    "#change all values into mean of the column\n",
    "for x in genre_gross:\n",
    "    genre_gross[x] = genre_gross[x].mean()"
   ]
  },
  {
   "cell_type": "code",
   "execution_count": 26,
   "metadata": {
    "scrolled": true
   },
   "outputs": [
    {
     "data": {
      "text/html": [
       "<div>\n",
       "<style scoped>\n",
       "    .dataframe tbody tr th:only-of-type {\n",
       "        vertical-align: middle;\n",
       "    }\n",
       "\n",
       "    .dataframe tbody tr th {\n",
       "        vertical-align: top;\n",
       "    }\n",
       "\n",
       "    .dataframe thead th {\n",
       "        text-align: right;\n",
       "    }\n",
       "</style>\n",
       "<table border=\"1\" class=\"dataframe\">\n",
       "  <thead>\n",
       "    <tr style=\"text-align: right;\">\n",
       "      <th></th>\n",
       "      <th>Mystery_f_gross</th>\n",
       "      <th>Mystery_d_gross</th>\n",
       "      <th>Mystery_w_gross</th>\n",
       "      <th>Drama_f_gross</th>\n",
       "      <th>Drama_d_gross</th>\n",
       "      <th>Drama_w_gross</th>\n",
       "      <th>Animation_f_gross</th>\n",
       "      <th>Animation_d_gross</th>\n",
       "      <th>Animation_w_gross</th>\n",
       "      <th>Game-Show_f_gross</th>\n",
       "      <th>...</th>\n",
       "      <th>Sci-Fi_w_gross</th>\n",
       "      <th>Adult_f_gross</th>\n",
       "      <th>Adult_d_gross</th>\n",
       "      <th>Adult_w_gross</th>\n",
       "      <th>Adventure_f_gross</th>\n",
       "      <th>Adventure_d_gross</th>\n",
       "      <th>Adventure_w_gross</th>\n",
       "      <th>History_f_gross</th>\n",
       "      <th>History_d_gross</th>\n",
       "      <th>History_w_gross</th>\n",
       "    </tr>\n",
       "  </thead>\n",
       "  <tbody>\n",
       "    <tr>\n",
       "      <th>count</th>\n",
       "      <td>3.859000e+03</td>\n",
       "      <td>3.859000e+03</td>\n",
       "      <td>3.859000e+03</td>\n",
       "      <td>3.859000e+03</td>\n",
       "      <td>3.859000e+03</td>\n",
       "      <td>3.859000e+03</td>\n",
       "      <td>3.859000e+03</td>\n",
       "      <td>3.859000e+03</td>\n",
       "      <td>3.859000e+03</td>\n",
       "      <td>3859.0</td>\n",
       "      <td>...</td>\n",
       "      <td>3.859000e+03</td>\n",
       "      <td>3859.0</td>\n",
       "      <td>3859.0</td>\n",
       "      <td>3859.0</td>\n",
       "      <td>3.859000e+03</td>\n",
       "      <td>3.859000e+03</td>\n",
       "      <td>3.859000e+03</td>\n",
       "      <td>3.859000e+03</td>\n",
       "      <td>3.859000e+03</td>\n",
       "      <td>3.859000e+03</td>\n",
       "    </tr>\n",
       "    <tr>\n",
       "      <th>mean</th>\n",
       "      <td>2.483691e+06</td>\n",
       "      <td>1.640245e+06</td>\n",
       "      <td>4.136717e+06</td>\n",
       "      <td>1.789907e+07</td>\n",
       "      <td>9.887551e+06</td>\n",
       "      <td>3.013791e+07</td>\n",
       "      <td>7.349618e+06</td>\n",
       "      <td>4.070494e+06</td>\n",
       "      <td>1.145352e+07</td>\n",
       "      <td>0.0</td>\n",
       "      <td>...</td>\n",
       "      <td>1.170864e+07</td>\n",
       "      <td>0.0</td>\n",
       "      <td>0.0</td>\n",
       "      <td>0.0</td>\n",
       "      <td>2.432933e+07</td>\n",
       "      <td>1.259821e+07</td>\n",
       "      <td>3.715737e+07</td>\n",
       "      <td>1.022119e+06</td>\n",
       "      <td>7.940647e+05</td>\n",
       "      <td>1.798839e+06</td>\n",
       "    </tr>\n",
       "    <tr>\n",
       "      <th>std</th>\n",
       "      <td>1.304021e-07</td>\n",
       "      <td>6.147526e-08</td>\n",
       "      <td>1.467023e-07</td>\n",
       "      <td>1.270489e-06</td>\n",
       "      <td>3.520856e-07</td>\n",
       "      <td>2.496268e-06</td>\n",
       "      <td>1.825629e-07</td>\n",
       "      <td>2.016575e-07</td>\n",
       "      <td>2.235464e-08</td>\n",
       "      <td>0.0</td>\n",
       "      <td>...</td>\n",
       "      <td>1.121458e-06</td>\n",
       "      <td>0.0</td>\n",
       "      <td>0.0</td>\n",
       "      <td>0.0</td>\n",
       "      <td>1.602082e-06</td>\n",
       "      <td>6.929938e-07</td>\n",
       "      <td>2.324882e-06</td>\n",
       "      <td>3.586057e-08</td>\n",
       "      <td>2.119033e-08</td>\n",
       "      <td>1.164304e-08</td>\n",
       "    </tr>\n",
       "    <tr>\n",
       "      <th>min</th>\n",
       "      <td>2.483691e+06</td>\n",
       "      <td>1.640245e+06</td>\n",
       "      <td>4.136717e+06</td>\n",
       "      <td>1.789907e+07</td>\n",
       "      <td>9.887551e+06</td>\n",
       "      <td>3.013791e+07</td>\n",
       "      <td>7.349618e+06</td>\n",
       "      <td>4.070494e+06</td>\n",
       "      <td>1.145352e+07</td>\n",
       "      <td>0.0</td>\n",
       "      <td>...</td>\n",
       "      <td>1.170864e+07</td>\n",
       "      <td>0.0</td>\n",
       "      <td>0.0</td>\n",
       "      <td>0.0</td>\n",
       "      <td>2.432933e+07</td>\n",
       "      <td>1.259821e+07</td>\n",
       "      <td>3.715737e+07</td>\n",
       "      <td>1.022119e+06</td>\n",
       "      <td>7.940647e+05</td>\n",
       "      <td>1.798839e+06</td>\n",
       "    </tr>\n",
       "    <tr>\n",
       "      <th>25%</th>\n",
       "      <td>2.483691e+06</td>\n",
       "      <td>1.640245e+06</td>\n",
       "      <td>4.136717e+06</td>\n",
       "      <td>1.789907e+07</td>\n",
       "      <td>9.887551e+06</td>\n",
       "      <td>3.013791e+07</td>\n",
       "      <td>7.349618e+06</td>\n",
       "      <td>4.070494e+06</td>\n",
       "      <td>1.145352e+07</td>\n",
       "      <td>0.0</td>\n",
       "      <td>...</td>\n",
       "      <td>1.170864e+07</td>\n",
       "      <td>0.0</td>\n",
       "      <td>0.0</td>\n",
       "      <td>0.0</td>\n",
       "      <td>2.432933e+07</td>\n",
       "      <td>1.259821e+07</td>\n",
       "      <td>3.715737e+07</td>\n",
       "      <td>1.022119e+06</td>\n",
       "      <td>7.940647e+05</td>\n",
       "      <td>1.798839e+06</td>\n",
       "    </tr>\n",
       "    <tr>\n",
       "      <th>50%</th>\n",
       "      <td>2.483691e+06</td>\n",
       "      <td>1.640245e+06</td>\n",
       "      <td>4.136717e+06</td>\n",
       "      <td>1.789907e+07</td>\n",
       "      <td>9.887551e+06</td>\n",
       "      <td>3.013791e+07</td>\n",
       "      <td>7.349618e+06</td>\n",
       "      <td>4.070494e+06</td>\n",
       "      <td>1.145352e+07</td>\n",
       "      <td>0.0</td>\n",
       "      <td>...</td>\n",
       "      <td>1.170864e+07</td>\n",
       "      <td>0.0</td>\n",
       "      <td>0.0</td>\n",
       "      <td>0.0</td>\n",
       "      <td>2.432933e+07</td>\n",
       "      <td>1.259821e+07</td>\n",
       "      <td>3.715737e+07</td>\n",
       "      <td>1.022119e+06</td>\n",
       "      <td>7.940647e+05</td>\n",
       "      <td>1.798839e+06</td>\n",
       "    </tr>\n",
       "    <tr>\n",
       "      <th>75%</th>\n",
       "      <td>2.483691e+06</td>\n",
       "      <td>1.640245e+06</td>\n",
       "      <td>4.136717e+06</td>\n",
       "      <td>1.789907e+07</td>\n",
       "      <td>9.887551e+06</td>\n",
       "      <td>3.013791e+07</td>\n",
       "      <td>7.349618e+06</td>\n",
       "      <td>4.070494e+06</td>\n",
       "      <td>1.145352e+07</td>\n",
       "      <td>0.0</td>\n",
       "      <td>...</td>\n",
       "      <td>1.170864e+07</td>\n",
       "      <td>0.0</td>\n",
       "      <td>0.0</td>\n",
       "      <td>0.0</td>\n",
       "      <td>2.432933e+07</td>\n",
       "      <td>1.259821e+07</td>\n",
       "      <td>3.715737e+07</td>\n",
       "      <td>1.022119e+06</td>\n",
       "      <td>7.940647e+05</td>\n",
       "      <td>1.798839e+06</td>\n",
       "    </tr>\n",
       "    <tr>\n",
       "      <th>max</th>\n",
       "      <td>2.483691e+06</td>\n",
       "      <td>1.640245e+06</td>\n",
       "      <td>4.136717e+06</td>\n",
       "      <td>1.789907e+07</td>\n",
       "      <td>9.887551e+06</td>\n",
       "      <td>3.013791e+07</td>\n",
       "      <td>7.349618e+06</td>\n",
       "      <td>4.070494e+06</td>\n",
       "      <td>1.145352e+07</td>\n",
       "      <td>0.0</td>\n",
       "      <td>...</td>\n",
       "      <td>1.170864e+07</td>\n",
       "      <td>0.0</td>\n",
       "      <td>0.0</td>\n",
       "      <td>0.0</td>\n",
       "      <td>2.432933e+07</td>\n",
       "      <td>1.259821e+07</td>\n",
       "      <td>3.715737e+07</td>\n",
       "      <td>1.022119e+06</td>\n",
       "      <td>7.940647e+05</td>\n",
       "      <td>1.798839e+06</td>\n",
       "    </tr>\n",
       "  </tbody>\n",
       "</table>\n",
       "<p>8 rows × 81 columns</p>\n",
       "</div>"
      ],
      "text/plain": [
       "       Mystery_f_gross  Mystery_d_gross  Mystery_w_gross  Drama_f_gross  \\\n",
       "count     3.859000e+03     3.859000e+03     3.859000e+03   3.859000e+03   \n",
       "mean      2.483691e+06     1.640245e+06     4.136717e+06   1.789907e+07   \n",
       "std       1.304021e-07     6.147526e-08     1.467023e-07   1.270489e-06   \n",
       "min       2.483691e+06     1.640245e+06     4.136717e+06   1.789907e+07   \n",
       "25%       2.483691e+06     1.640245e+06     4.136717e+06   1.789907e+07   \n",
       "50%       2.483691e+06     1.640245e+06     4.136717e+06   1.789907e+07   \n",
       "75%       2.483691e+06     1.640245e+06     4.136717e+06   1.789907e+07   \n",
       "max       2.483691e+06     1.640245e+06     4.136717e+06   1.789907e+07   \n",
       "\n",
       "       Drama_d_gross  Drama_w_gross  Animation_f_gross  Animation_d_gross  \\\n",
       "count   3.859000e+03   3.859000e+03       3.859000e+03       3.859000e+03   \n",
       "mean    9.887551e+06   3.013791e+07       7.349618e+06       4.070494e+06   \n",
       "std     3.520856e-07   2.496268e-06       1.825629e-07       2.016575e-07   \n",
       "min     9.887551e+06   3.013791e+07       7.349618e+06       4.070494e+06   \n",
       "25%     9.887551e+06   3.013791e+07       7.349618e+06       4.070494e+06   \n",
       "50%     9.887551e+06   3.013791e+07       7.349618e+06       4.070494e+06   \n",
       "75%     9.887551e+06   3.013791e+07       7.349618e+06       4.070494e+06   \n",
       "max     9.887551e+06   3.013791e+07       7.349618e+06       4.070494e+06   \n",
       "\n",
       "       Animation_w_gross  Game-Show_f_gross  ...  Sci-Fi_w_gross  \\\n",
       "count       3.859000e+03             3859.0  ...    3.859000e+03   \n",
       "mean        1.145352e+07                0.0  ...    1.170864e+07   \n",
       "std         2.235464e-08                0.0  ...    1.121458e-06   \n",
       "min         1.145352e+07                0.0  ...    1.170864e+07   \n",
       "25%         1.145352e+07                0.0  ...    1.170864e+07   \n",
       "50%         1.145352e+07                0.0  ...    1.170864e+07   \n",
       "75%         1.145352e+07                0.0  ...    1.170864e+07   \n",
       "max         1.145352e+07                0.0  ...    1.170864e+07   \n",
       "\n",
       "       Adult_f_gross  Adult_d_gross  Adult_w_gross  Adventure_f_gross  \\\n",
       "count         3859.0         3859.0         3859.0       3.859000e+03   \n",
       "mean             0.0            0.0            0.0       2.432933e+07   \n",
       "std              0.0            0.0            0.0       1.602082e-06   \n",
       "min              0.0            0.0            0.0       2.432933e+07   \n",
       "25%              0.0            0.0            0.0       2.432933e+07   \n",
       "50%              0.0            0.0            0.0       2.432933e+07   \n",
       "75%              0.0            0.0            0.0       2.432933e+07   \n",
       "max              0.0            0.0            0.0       2.432933e+07   \n",
       "\n",
       "       Adventure_d_gross  Adventure_w_gross  History_f_gross  History_d_gross  \\\n",
       "count       3.859000e+03       3.859000e+03     3.859000e+03     3.859000e+03   \n",
       "mean        1.259821e+07       3.715737e+07     1.022119e+06     7.940647e+05   \n",
       "std         6.929938e-07       2.324882e-06     3.586057e-08     2.119033e-08   \n",
       "min         1.259821e+07       3.715737e+07     1.022119e+06     7.940647e+05   \n",
       "25%         1.259821e+07       3.715737e+07     1.022119e+06     7.940647e+05   \n",
       "50%         1.259821e+07       3.715737e+07     1.022119e+06     7.940647e+05   \n",
       "75%         1.259821e+07       3.715737e+07     1.022119e+06     7.940647e+05   \n",
       "max         1.259821e+07       3.715737e+07     1.022119e+06     7.940647e+05   \n",
       "\n",
       "       History_w_gross  \n",
       "count     3.859000e+03  \n",
       "mean      1.798839e+06  \n",
       "std       1.164304e-08  \n",
       "min       1.798839e+06  \n",
       "25%       1.798839e+06  \n",
       "50%       1.798839e+06  \n",
       "75%       1.798839e+06  \n",
       "max       1.798839e+06  \n",
       "\n",
       "[8 rows x 81 columns]"
      ]
     },
     "execution_count": 26,
     "metadata": {},
     "output_type": "execute_result"
    }
   ],
   "source": [
    "genre_gross.describe()"
   ]
  },
  {
   "cell_type": "markdown",
   "metadata": {},
   "source": [
    "The challenge now is to group the column values per genre (worldwide,foreig,domestic) to be able to compare and show the values. "
   ]
  },
  {
   "cell_type": "code",
   "execution_count": 27,
   "metadata": {
    "scrolled": true
   },
   "outputs": [],
   "source": [
    "#Creating empty list to use for bar charts\n",
    "###foreign gross\n",
    "gbars1 = []\n",
    "\n",
    "###Domestic Gross\n",
    "gbars2 = []\n",
    "\n",
    "###Wordwide Gross\n",
    "gbars3 = []\n",
    "\n",
    "#iterating through the 3 type of gross per genre\n",
    "for i in range(0,81,3): \n",
    "\n",
    "    gbars1.append(genre_gross.iloc[0,i])\n",
    "    gbars2.append(genre_gross.iloc[0,i+1])\n",
    "    gbars3.append(genre_gross.iloc[0,i+2])\n",
    "\n",
    "#sorting the gross data\n",
    "gbars1.sort(reverse = True)\n",
    "gbars2.sort(reverse = True)\n",
    "gbars3.sort(reverse = True)\n",
    "\n",
    "\n",
    "#keeping the top 10 values\n",
    "gbars1=gbars1[0:10]\n",
    "gbars2=gbars2[0:10]\n",
    "gbars3=gbars3[0:10]"
   ]
  },
  {
   "cell_type": "code",
   "execution_count": 28,
   "metadata": {},
   "outputs": [
    {
     "data": {
      "image/png": "[encoded data removed]",
      "text/plain": [
       "<Figure size 1080x720 with 1 Axes>"
      ]
     },
     "metadata": {
      "needs_background": "light"
     },
     "output_type": "display_data"
    }
   ],
   "source": [
    "#Creating grouped barchart\n",
    "figure = plt.figure(figsize=(15, 10))\n",
    "axes = figure.add_subplot(2, 1, 1)\n",
    "\n",
    "# set width of bar\n",
    "barWidth = 0.3\n",
    "\n",
    " \n",
    "# Set position of bar on X axis\n",
    "r1 = np.arange(len(gbars1))\n",
    "r2 = [x + barWidth for x in r1]\n",
    "r3 = [x + barWidth for x in r2]\n",
    " \n",
    "    # Make the plot\n",
    "plt.bar(r1, gbars2, color='#7f6d5f', width=barWidth, edgecolor='white', label='Domestic Gross')\n",
    "plt.bar(r2, gbars1, color='#557f2d', width=barWidth, edgecolor='white', label='Foreign Gross')\n",
    "plt.bar(r3, gbars3, color='#2d7f5e', width=barWidth, edgecolor='white', label='Worldwide Gross')\n",
    "    \n",
    " \n",
    "# Add xticks o the middle of the group bars\n",
    "plt.xlabel('Genre', fontweight='bold')\n",
    "plt.ylabel('Tens of Millions', fontweight='bold')\n",
    "plt.xticks([r + barWidth for r in range(len(gbars1))], list(bars1.index))\n",
    "axes.set_xticklabels(axes.get_xticklabels(),rotation=30)\n",
    "\n",
    "plt.title('Movie Gross')\n",
    "# Create legend & Show graphic\n",
    "plt.legend()\n",
    "plt.savefig('Movie Gross.jpg')\n",
    "plt.show()\n",
    "\n"
   ]
  },
  {
   "cell_type": "markdown",
   "metadata": {},
   "source": [
    "## Result\n",
    "From the chart above, we identify the major gross from the foreign market compared to the domestic sales considtently from the top 10 gross earning genres."
   ]
  },
  {
   "cell_type": "markdown",
   "metadata": {},
   "source": [
    "# Movie Length based on votes and gross"
   ]
  },
  {
   "cell_type": "markdown",
   "metadata": {},
   "source": [
    "With the knowledge of identifying the target market and the genre, we can explore the content of the movie itself. One feature we can consider is the length of the movie."
   ]
  },
  {
   "cell_type": "code",
   "execution_count": 29,
   "metadata": {},
   "outputs": [],
   "source": [
    "df_run_gross = df[(df['numvotes']>25)]"
   ]
  },
  {
   "cell_type": "code",
   "execution_count": 30,
   "metadata": {},
   "outputs": [
    {
     "data": {
      "text/html": [
       "<div>\n",
       "<style scoped>\n",
       "    .dataframe tbody tr th:only-of-type {\n",
       "        vertical-align: middle;\n",
       "    }\n",
       "\n",
       "    .dataframe tbody tr th {\n",
       "        vertical-align: top;\n",
       "    }\n",
       "\n",
       "    .dataframe thead th {\n",
       "        text-align: right;\n",
       "    }\n",
       "</style>\n",
       "<table border=\"1\" class=\"dataframe\">\n",
       "  <thead>\n",
       "    <tr style=\"text-align: right;\">\n",
       "      <th></th>\n",
       "      <th>worldwide_gross</th>\n",
       "      <th>runtime_minutes</th>\n",
       "    </tr>\n",
       "  </thead>\n",
       "  <tbody>\n",
       "    <tr>\n",
       "      <th>0</th>\n",
       "      <td>1.045664e+09</td>\n",
       "      <td>136.0</td>\n",
       "    </tr>\n",
       "    <tr>\n",
       "      <th>1</th>\n",
       "      <td>1.403014e+09</td>\n",
       "      <td>141.0</td>\n",
       "    </tr>\n",
       "    <tr>\n",
       "      <th>2</th>\n",
       "      <td>2.048134e+09</td>\n",
       "      <td>149.0</td>\n",
       "    </tr>\n",
       "    <tr>\n",
       "      <th>3</th>\n",
       "      <td>6.559452e+08</td>\n",
       "      <td>120.0</td>\n",
       "    </tr>\n",
       "    <tr>\n",
       "      <th>4</th>\n",
       "      <td>8.796209e+08</td>\n",
       "      <td>148.0</td>\n",
       "    </tr>\n",
       "  </tbody>\n",
       "</table>\n",
       "</div>"
      ],
      "text/plain": [
       "   worldwide_gross  runtime_minutes\n",
       "0     1.045664e+09            136.0\n",
       "1     1.403014e+09            141.0\n",
       "2     2.048134e+09            149.0\n",
       "3     6.559452e+08            120.0\n",
       "4     8.796209e+08            148.0"
      ]
     },
     "execution_count": 30,
     "metadata": {},
     "output_type": "execute_result"
    }
   ],
   "source": [
    "df_run_gross = df[['worldwide_gross','runtime_minutes']]\n",
    "df_run_gross.worldwide_gross = np.where(df_run_gross.worldwide_gross.isna() ==True, df_run_gross.worldwide_gross.mean(),df_run_gross.worldwide_gross)\n",
    "df_run_gross.worldwide_gross = np.where(df_run_gross.worldwide_gross <= 0, df_run_gross.worldwide_gross.mean(),df_run_gross.worldwide_gross)\n",
    "df_run_gross.runtime_minutes = np.where(df_run_gross.runtime_minutes.isna() ==True, df_run_gross.runtime_minutes.mean(),df_run_gross.runtime_minutes)\n",
    "df_run_gross.head()"
   ]
  },
  {
   "cell_type": "code",
   "execution_count": 31,
   "metadata": {},
   "outputs": [],
   "source": [
    "#create a data frame with  production budget data\n",
    "df_with_budget = df[df.production_budget.notnull()]"
   ]
  },
  {
   "cell_type": "code",
   "execution_count": 32,
   "metadata": {},
   "outputs": [
    {
     "data": {
      "text/plain": [
       "array([ 93., 105., 119.])"
      ]
     },
     "execution_count": 32,
     "metadata": {},
     "output_type": "execute_result"
    }
   ],
   "source": [
    "stats.mstats.mquantiles( df_with_budget.runtime_minutes, [0.25, 0.50,0.75])"
   ]
  },
  {
   "cell_type": "code",
   "execution_count": 33,
   "metadata": {},
   "outputs": [],
   "source": [
    "df_with_budget['Movie_Length'] = None"
   ]
  },
  {
   "cell_type": "code",
   "execution_count": 34,
   "metadata": {
    "scrolled": true
   },
   "outputs": [],
   "source": [
    "df_with_budget['Movie_Length'] = np.where(df_with_budget.runtime_minutes < 93, 'Short',df_with_budget.Movie_Length)\n",
    "df_with_budget['Movie_Length'] = np.where((df_with_budget.runtime_minutes > 93)&(df_with_budget.runtime_minutes < 119),\"Average\",df_with_budget.Movie_Length)\n",
    "df_with_budget['Movie_Length'] = np.where(df_with_budget.runtime_minutes > 119, 'Long',df_with_budget.Movie_Length)"
   ]
  },
  {
   "cell_type": "code",
   "execution_count": 35,
   "metadata": {},
   "outputs": [
    {
     "data": {
      "text/plain": [
       "array([10000000., 26000000., 56200000.])"
      ]
     },
     "execution_count": 35,
     "metadata": {},
     "output_type": "execute_result"
    }
   ],
   "source": [
    "stats.mstats.mquantiles( df_with_budget.production_budget, [0.25, 0.50,0.75])"
   ]
  },
  {
   "cell_type": "code",
   "execution_count": 36,
   "metadata": {},
   "outputs": [],
   "source": [
    "df_with_budget['Budget_Type'] = None"
   ]
  },
  {
   "cell_type": "code",
   "execution_count": 37,
   "metadata": {},
   "outputs": [
    {
     "data": {
      "text/plain": [
       "Medium    893\n",
       "Large     451\n",
       "Small     392\n",
       "Name: Budget_Type, dtype: int64"
      ]
     },
     "execution_count": 37,
     "metadata": {},
     "output_type": "execute_result"
    }
   ],
   "source": [
    "df_with_budget['Budget_Type'] = np.where(df_with_budget.production_budget < 10000000, 'Small',df_with_budget.Budget_Type)\n",
    "df_with_budget['Budget_Type'] = np.where((df_with_budget.production_budget > 10000000)&(df_with_budget.production_budget < 56200000),\"Medium\",df_with_budget.Budget_Type)\n",
    "df_with_budget['Budget_Type'] = np.where(df_with_budget.production_budget > 56200000, 'Large',df_with_budget.Budget_Type)\n",
    "df_with_budget.Budget_Type.value_counts()"
   ]
  },
  {
   "cell_type": "code",
   "execution_count": 38,
   "metadata": {
    "scrolled": false
   },
   "outputs": [
    {
     "data": {
      "image/png": "[encoded data removed]",
      "text/plain": [
       "<Figure size 797.625x360 with 1 Axes>"
      ]
     },
     "metadata": {
      "needs_background": "light"
     },
     "output_type": "display_data"
    }
   ],
   "source": [
    "sns.catplot(hue= 'Movie_Length',x=\"Budget_Type\", y=\"profit\", kind=\"boxen\", data=df_with_budget,height=5, aspect=2)\n",
    "plt.xlabel('Budget Size')\n",
    "plt.ylabel('Profit in 10 Millions')\n",
    "plt.title('Profit vs Budget and Movie Length')\n",
    "plt.savefig('Profit_vs_Budget_Length.jpg')\n",
    "plt.show()"
   ]
  },
  {
   "cell_type": "code",
   "execution_count": null,
   "metadata": {},
   "outputs": [],
   "source": []
  },
  {
   "cell_type": "markdown",
   "metadata": {},
   "source": [
    "# Actor/Actress Age for Lead Role"
   ]
  },
  {
   "cell_type": "code",
   "execution_count": 39,
   "metadata": {},
   "outputs": [],
   "source": [
    "df_lead_age = df[['actor_ordering','actor_age','actress_ordering','actress_age','year',\"gender_lead\"]]"
   ]
  },
  {
   "cell_type": "code",
   "execution_count": 40,
   "metadata": {},
   "outputs": [
    {
     "data": {
      "text/plain": [
       "actor_ordering       403\n",
       "actor_age            851\n",
       "actress_ordering     748\n",
       "actress_age         1245\n",
       "year                   0\n",
       "gender_lead            0\n",
       "dtype: int64"
      ]
     },
     "execution_count": 40,
     "metadata": {},
     "output_type": "execute_result"
    }
   ],
   "source": [
    "df_lead_age.isna().sum()"
   ]
  },
  {
   "cell_type": "code",
   "execution_count": 41,
   "metadata": {},
   "outputs": [],
   "source": [
    "df_lead_age.actor_ordering = np.where(df_lead_age.actor_ordering.isna()==True, df_lead_age.actor_ordering.mean(),df_lead_age.actor_ordering)\n",
    "df_lead_age.actress_ordering = np.where(df_lead_age.actress_ordering.isna()==True, df_lead_age.actress_ordering.mean(),df_lead_age.actress_ordering )\n",
    "df_lead_age.actor_age = np.where(df_lead_age.actor_age.isna()==True, df_lead_age.actor_age.mean(),df_lead_age.actor_age)\n",
    "df_lead_age.actress_age = np.where(df_lead_age.actress_age.isna()==True, df_lead_age.actress_age.mean(),df_lead_age.actress_age )"
   ]
  },
  {
   "cell_type": "code",
   "execution_count": 42,
   "metadata": {},
   "outputs": [
    {
     "data": {
      "text/html": [
       "<div>\n",
       "<style scoped>\n",
       "    .dataframe tbody tr th:only-of-type {\n",
       "        vertical-align: middle;\n",
       "    }\n",
       "\n",
       "    .dataframe tbody tr th {\n",
       "        vertical-align: top;\n",
       "    }\n",
       "\n",
       "    .dataframe thead th {\n",
       "        text-align: right;\n",
       "    }\n",
       "</style>\n",
       "<table border=\"1\" class=\"dataframe\">\n",
       "  <thead>\n",
       "    <tr style=\"text-align: right;\">\n",
       "      <th></th>\n",
       "      <th>actor_ordering</th>\n",
       "      <th>actor_age</th>\n",
       "      <th>actress_ordering</th>\n",
       "      <th>actress_age</th>\n",
       "      <th>year</th>\n",
       "      <th>gender_lead</th>\n",
       "    </tr>\n",
       "  </thead>\n",
       "  <tbody>\n",
       "    <tr>\n",
       "      <th>0</th>\n",
       "      <td>2.66667</td>\n",
       "      <td>1952.0</td>\n",
       "      <td>2</td>\n",
       "      <td>1974.000000</td>\n",
       "      <td>2011.0</td>\n",
       "      <td>female</td>\n",
       "    </tr>\n",
       "    <tr>\n",
       "      <th>1</th>\n",
       "      <td>2.5</td>\n",
       "      <td>1974.0</td>\n",
       "      <td>2.61279</td>\n",
       "      <td>1976.704081</td>\n",
       "      <td>2015.0</td>\n",
       "      <td>female</td>\n",
       "    </tr>\n",
       "    <tr>\n",
       "      <th>2</th>\n",
       "      <td>2.5</td>\n",
       "      <td>1974.0</td>\n",
       "      <td>2.61279</td>\n",
       "      <td>1976.704081</td>\n",
       "      <td>2018.0</td>\n",
       "      <td>female</td>\n",
       "    </tr>\n",
       "    <tr>\n",
       "      <th>3</th>\n",
       "      <td>2.66667</td>\n",
       "      <td>1981.0</td>\n",
       "      <td>2</td>\n",
       "      <td>1985.000000</td>\n",
       "      <td>2017.0</td>\n",
       "      <td>female</td>\n",
       "    </tr>\n",
       "    <tr>\n",
       "      <th>4</th>\n",
       "      <td>2.33333</td>\n",
       "      <td>1962.0</td>\n",
       "      <td>3</td>\n",
       "      <td>1985.000000</td>\n",
       "      <td>2015.0</td>\n",
       "      <td>male</td>\n",
       "    </tr>\n",
       "  </tbody>\n",
       "</table>\n",
       "</div>"
      ],
      "text/plain": [
       "  actor_ordering  actor_age actress_ordering  actress_age    year gender_lead\n",
       "0        2.66667     1952.0                2  1974.000000  2011.0      female\n",
       "1            2.5     1974.0          2.61279  1976.704081  2015.0      female\n",
       "2            2.5     1974.0          2.61279  1976.704081  2018.0      female\n",
       "3        2.66667     1981.0                2  1985.000000  2017.0      female\n",
       "4        2.33333     1962.0                3  1985.000000  2015.0        male"
      ]
     },
     "execution_count": 42,
     "metadata": {},
     "output_type": "execute_result"
    }
   ],
   "source": [
    "df_lead_age.head()"
   ]
  },
  {
   "cell_type": "code",
   "execution_count": 43,
   "metadata": {},
   "outputs": [
    {
     "data": {
      "text/html": [
       "<div>\n",
       "<style scoped>\n",
       "    .dataframe tbody tr th:only-of-type {\n",
       "        vertical-align: middle;\n",
       "    }\n",
       "\n",
       "    .dataframe tbody tr th {\n",
       "        vertical-align: top;\n",
       "    }\n",
       "\n",
       "    .dataframe thead th {\n",
       "        text-align: right;\n",
       "    }\n",
       "</style>\n",
       "<table border=\"1\" class=\"dataframe\">\n",
       "  <thead>\n",
       "    <tr style=\"text-align: right;\">\n",
       "      <th></th>\n",
       "      <th>actor_ordering</th>\n",
       "      <th>actor_age</th>\n",
       "      <th>actress_ordering</th>\n",
       "      <th>actress_age</th>\n",
       "      <th>year</th>\n",
       "      <th>gender_lead</th>\n",
       "      <th>actor_age_of_role</th>\n",
       "      <th>actress_age_of_role</th>\n",
       "    </tr>\n",
       "  </thead>\n",
       "  <tbody>\n",
       "    <tr>\n",
       "      <th>0</th>\n",
       "      <td>2.66667</td>\n",
       "      <td>1952.0</td>\n",
       "      <td>2</td>\n",
       "      <td>1974.000000</td>\n",
       "      <td>2011.0</td>\n",
       "      <td>female</td>\n",
       "      <td>59.0</td>\n",
       "      <td>37.000000</td>\n",
       "    </tr>\n",
       "    <tr>\n",
       "      <th>1</th>\n",
       "      <td>2.5</td>\n",
       "      <td>1974.0</td>\n",
       "      <td>2.61279</td>\n",
       "      <td>1976.704081</td>\n",
       "      <td>2015.0</td>\n",
       "      <td>female</td>\n",
       "      <td>41.0</td>\n",
       "      <td>38.295919</td>\n",
       "    </tr>\n",
       "    <tr>\n",
       "      <th>2</th>\n",
       "      <td>2.5</td>\n",
       "      <td>1974.0</td>\n",
       "      <td>2.61279</td>\n",
       "      <td>1976.704081</td>\n",
       "      <td>2018.0</td>\n",
       "      <td>female</td>\n",
       "      <td>44.0</td>\n",
       "      <td>41.295919</td>\n",
       "    </tr>\n",
       "    <tr>\n",
       "      <th>3</th>\n",
       "      <td>2.66667</td>\n",
       "      <td>1981.0</td>\n",
       "      <td>2</td>\n",
       "      <td>1985.000000</td>\n",
       "      <td>2017.0</td>\n",
       "      <td>female</td>\n",
       "      <td>36.0</td>\n",
       "      <td>32.000000</td>\n",
       "    </tr>\n",
       "    <tr>\n",
       "      <th>4</th>\n",
       "      <td>2.33333</td>\n",
       "      <td>1962.0</td>\n",
       "      <td>3</td>\n",
       "      <td>1985.000000</td>\n",
       "      <td>2015.0</td>\n",
       "      <td>male</td>\n",
       "      <td>53.0</td>\n",
       "      <td>30.000000</td>\n",
       "    </tr>\n",
       "  </tbody>\n",
       "</table>\n",
       "</div>"
      ],
      "text/plain": [
       "  actor_ordering  actor_age actress_ordering  actress_age    year gender_lead  \\\n",
       "0        2.66667     1952.0                2  1974.000000  2011.0      female   \n",
       "1            2.5     1974.0          2.61279  1976.704081  2015.0      female   \n",
       "2            2.5     1974.0          2.61279  1976.704081  2018.0      female   \n",
       "3        2.66667     1981.0                2  1985.000000  2017.0      female   \n",
       "4        2.33333     1962.0                3  1985.000000  2015.0        male   \n",
       "\n",
       "   actor_age_of_role  actress_age_of_role  \n",
       "0               59.0            37.000000  \n",
       "1               41.0            38.295919  \n",
       "2               44.0            41.295919  \n",
       "3               36.0            32.000000  \n",
       "4               53.0            30.000000  "
      ]
     },
     "execution_count": 43,
     "metadata": {},
     "output_type": "execute_result"
    }
   ],
   "source": [
    "df_lead_age['actor_age_of_role'] = df_lead_age.year - df_lead_age.actor_age\n",
    "df_lead_age['actress_age_of_role'] = df_lead_age.year - df_lead_age.actress_age\n",
    "df_lead_age.head()"
   ]
  },
  {
   "cell_type": "code",
   "execution_count": 44,
   "metadata": {},
   "outputs": [
    {
     "data": {
      "text/html": [
       "<div>\n",
       "<style scoped>\n",
       "    .dataframe tbody tr th:only-of-type {\n",
       "        vertical-align: middle;\n",
       "    }\n",
       "\n",
       "    .dataframe tbody tr th {\n",
       "        vertical-align: top;\n",
       "    }\n",
       "\n",
       "    .dataframe thead th {\n",
       "        text-align: right;\n",
       "    }\n",
       "</style>\n",
       "<table border=\"1\" class=\"dataframe\">\n",
       "  <thead>\n",
       "    <tr style=\"text-align: right;\">\n",
       "      <th></th>\n",
       "      <th>actor_ordering</th>\n",
       "      <th>actor_age</th>\n",
       "      <th>actress_ordering</th>\n",
       "      <th>actress_age</th>\n",
       "      <th>year</th>\n",
       "      <th>gender_lead</th>\n",
       "      <th>actor_age_of_role</th>\n",
       "      <th>actress_age_of_role</th>\n",
       "      <th>lead_age</th>\n",
       "    </tr>\n",
       "  </thead>\n",
       "  <tbody>\n",
       "    <tr>\n",
       "      <th>0</th>\n",
       "      <td>2.66667</td>\n",
       "      <td>1952.0</td>\n",
       "      <td>2</td>\n",
       "      <td>1974.000000</td>\n",
       "      <td>2011.0</td>\n",
       "      <td>female</td>\n",
       "      <td>59.0</td>\n",
       "      <td>37.000000</td>\n",
       "      <td>37.000000</td>\n",
       "    </tr>\n",
       "    <tr>\n",
       "      <th>1</th>\n",
       "      <td>2.5</td>\n",
       "      <td>1974.0</td>\n",
       "      <td>2.61279</td>\n",
       "      <td>1976.704081</td>\n",
       "      <td>2015.0</td>\n",
       "      <td>female</td>\n",
       "      <td>41.0</td>\n",
       "      <td>38.295919</td>\n",
       "      <td>38.295919</td>\n",
       "    </tr>\n",
       "    <tr>\n",
       "      <th>2</th>\n",
       "      <td>2.5</td>\n",
       "      <td>1974.0</td>\n",
       "      <td>2.61279</td>\n",
       "      <td>1976.704081</td>\n",
       "      <td>2018.0</td>\n",
       "      <td>female</td>\n",
       "      <td>44.0</td>\n",
       "      <td>41.295919</td>\n",
       "      <td>41.295919</td>\n",
       "    </tr>\n",
       "    <tr>\n",
       "      <th>3</th>\n",
       "      <td>2.66667</td>\n",
       "      <td>1981.0</td>\n",
       "      <td>2</td>\n",
       "      <td>1985.000000</td>\n",
       "      <td>2017.0</td>\n",
       "      <td>female</td>\n",
       "      <td>36.0</td>\n",
       "      <td>32.000000</td>\n",
       "      <td>32.000000</td>\n",
       "    </tr>\n",
       "    <tr>\n",
       "      <th>4</th>\n",
       "      <td>2.33333</td>\n",
       "      <td>1962.0</td>\n",
       "      <td>3</td>\n",
       "      <td>1985.000000</td>\n",
       "      <td>2015.0</td>\n",
       "      <td>male</td>\n",
       "      <td>53.0</td>\n",
       "      <td>30.000000</td>\n",
       "      <td>53.000000</td>\n",
       "    </tr>\n",
       "  </tbody>\n",
       "</table>\n",
       "</div>"
      ],
      "text/plain": [
       "  actor_ordering  actor_age actress_ordering  actress_age    year gender_lead  \\\n",
       "0        2.66667     1952.0                2  1974.000000  2011.0      female   \n",
       "1            2.5     1974.0          2.61279  1976.704081  2015.0      female   \n",
       "2            2.5     1974.0          2.61279  1976.704081  2018.0      female   \n",
       "3        2.66667     1981.0                2  1985.000000  2017.0      female   \n",
       "4        2.33333     1962.0                3  1985.000000  2015.0        male   \n",
       "\n",
       "   actor_age_of_role  actress_age_of_role   lead_age  \n",
       "0               59.0            37.000000  37.000000  \n",
       "1               41.0            38.295919  38.295919  \n",
       "2               44.0            41.295919  41.295919  \n",
       "3               36.0            32.000000  32.000000  \n",
       "4               53.0            30.000000  53.000000  "
      ]
     },
     "execution_count": 44,
     "metadata": {},
     "output_type": "execute_result"
    }
   ],
   "source": [
    "df_lead_age['lead_age'] = 0\n",
    "df_lead_age['lead_age'] = np.where(df_lead_age.gender_lead == 'female', df_lead_age.actress_age_of_role, df_lead_age.actor_age_of_role)\n",
    "#df_lead_age['lead_age'] = np.where(df_lead_age.actress_ordering>df_lead_age.actor_ordering, 'male', df_lead_age.lead_gender)\n",
    "df_lead_age.head()\n"
   ]
  },
  {
   "cell_type": "code",
   "execution_count": 45,
   "metadata": {},
   "outputs": [
    {
     "data": {
      "text/plain": [
       "actor_ordering         0\n",
       "actor_age              0\n",
       "actress_ordering       0\n",
       "actress_age            0\n",
       "year                   0\n",
       "gender_lead            0\n",
       "actor_age_of_role      0\n",
       "actress_age_of_role    0\n",
       "lead_age               0\n",
       "dtype: int64"
      ]
     },
     "execution_count": 45,
     "metadata": {},
     "output_type": "execute_result"
    }
   ],
   "source": [
    "df_lead_age.isna().sum()"
   ]
  },
  {
   "cell_type": "code",
   "execution_count": 46,
   "metadata": {},
   "outputs": [
    {
     "data": {
      "image/png": "[encoded data removed]",
      "text/plain": [
       "<Figure size 1152x576 with 1 Axes>"
      ]
     },
     "metadata": {
      "needs_background": "light"
     },
     "output_type": "display_data"
    }
   ],
   "source": [
    "sns.catplot(x='gender_lead', y= 'lead_age', kind ='boxen', data = df_lead_age, height=8, aspect = 2,palette={\"male\": \"darkblue\", \"female\": \"pink\"},)\n",
    "plt.xlabel('Gender')\n",
    "plt.ylabel('Age')\n",
    "plt.title('Actor/Actress Age during Lead Role')\n",
    "plt.savefig('Actor_Actress_Age.jpg')\n",
    "plt.show()"
   ]
  },
  {
   "cell_type": "code",
   "execution_count": null,
   "metadata": {},
   "outputs": [],
   "source": []
  }
 ],
 "metadata": {
  "celltoolbar": "Raw Cell Format",
  "kernelspec": {
   "display_name": "Python 3",
   "language": "python",
   "name": "python3"
  },
  "language_info": {
   "codemirror_mode": {
    "name": "ipython",
    "version": 3
   },
   "file_extension": ".py",
   "mimetype": "text/x-python",
   "name": "python",
   "nbconvert_exporter": "python",
   "pygments_lexer": "ipython3",
   "version": "3.7.3"
  }
 },
 "nbformat": 4,
 "nbformat_minor": 2
}
