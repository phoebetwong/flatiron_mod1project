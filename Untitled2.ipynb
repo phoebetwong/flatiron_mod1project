{
 "cells": [
  {
   "cell_type": "markdown",
   "metadata": {},
   "source": [
    "|         Variables         |    Target    |\n",
    "|:-------------------------:|:------------:|\n",
    "|    Geographical Market    |    Foreign   |\n",
    "|           Genre           |   Adventure  |\n",
    "|   Budget Recommendation   | > 12 Million |\n",
    "|  Actor Age for Lead Role  |  ~50 yrs old |\n",
    "| Actress Age for Lead Role |  ~35 yrs old |"
   ]
  },
  {
   "cell_type": "code",
   "execution_count": null,
   "metadata": {},
   "outputs": [],
   "source": []
  }
 ],
 "metadata": {
  "kernelspec": {
   "display_name": "Python 3",
   "language": "python",
   "name": "python3"
  },
  "language_info": {
   "codemirror_mode": {
    "name": "ipython",
    "version": 3
   },
   "file_extension": ".py",
   "mimetype": "text/x-python",
   "name": "python",
   "nbconvert_exporter": "python",
   "pygments_lexer": "ipython3",
   "version": "3.7.3"
  }
 },
 "nbformat": 4,
 "nbformat_minor": 2
}
